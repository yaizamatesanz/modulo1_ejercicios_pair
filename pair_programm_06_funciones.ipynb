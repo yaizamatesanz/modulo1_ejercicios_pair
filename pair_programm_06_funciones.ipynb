{
 "cells": [
  {
   "cell_type": "markdown",
   "metadata": {},
   "source": [
    "## EJERCICIOS"
   ]
  },
  {
   "cell_type": "markdown",
   "metadata": {},
   "source": [
    "\n",
    "1. Calcular el área de un círculo.\n",
    "Descripción: Crea una función llamada calcular_area_circulo que tome el radio como parámetro y devuelva el área del círculo.\n",
    "NOTA: Os dejamos aquí un link para recordar comose calculaba el área de un círculo."
   ]
  },
  {
   "cell_type": "code",
   "execution_count": 76,
   "metadata": {},
   "outputs": [
    {
     "name": "stdout",
     "output_type": "stream",
     "text": [
      "El area del circulo es:'6361.74'\n"
     ]
    }
   ],
   "source": [
    "# area= pi* radio**2\n",
    "\n",
    "def calcular_area_circulo (radio):\n",
    "    pi=3.1416\n",
    "    area= pi* radio**2\n",
    "    return area\n",
    "\n",
    "radio1= 45\n",
    "area_circulo= calcular_area_circulo (radio1)\n",
    "\n",
    "print(f\"El area del circulo es:'{area_circulo}'\")"
   ]
  },
  {
   "cell_type": "markdown",
   "metadata": {},
   "source": [
    "2. Contar la cantidad de caracteres en una cadena.\n",
    "Descripción: Crea una función llamada contar_caracteres que tome una cadena como parámetro y devuelva la cantidad de caracteres que contiene."
   ]
  },
  {
   "cell_type": "code",
   "execution_count": 77,
   "metadata": {},
   "outputs": [
    {
     "name": "stdout",
     "output_type": "stream",
     "text": [
      " Cantidad de caracteres en el texto: 4\n"
     ]
    }
   ],
   "source": [
    "def contar_caracteres(cadena):\n",
    "    contador=0\n",
    "\n",
    "    for caracteres in cadena:\n",
    "        contador +=1\n",
    "\n",
    "    return contador\n",
    "\n",
    "cadena_texto= input('Escribe un texto ')\n",
    "\n",
    "contador_letras= contar_caracteres(cadena_texto)\n",
    "\n",
    "print (' Cantidad de caracteres en el texto:', contador_letras)"
   ]
  },
  {
   "cell_type": "markdown",
   "metadata": {},
   "source": [
    "3. Determinar si una cadena es un palíndromo.\n",
    "\n",
    "Descripción: Crea una función llamada es_palindromo que tome una cadena como parámetro y devuelva True si es un palíndromo, o False si no lo es.\n",
    "¿Qué es un palíndromo?."
   ]
  },
  {
   "cell_type": "code",
   "execution_count": 78,
   "metadata": {},
   "outputs": [
    {
     "name": "stdout",
     "output_type": "stream",
     "text": [
      "['hoja']\n",
      "Es \"hoja\" un palindromo \"True\"\n"
     ]
    }
   ],
   "source": [
    "# palindromo= secuencia que se lee igual  de atras hacia adelante \n",
    "\n",
    "def es_palindromo (cadena_palabras):\n",
    "\n",
    "    lista_palabra=cadena_palabras.split()\n",
    "    print (lista_palabra)\n",
    "\n",
    "    for palabra in lista_palabra:\n",
    "        if palabra == lista_palabra.reverse():\n",
    "            print ()\n",
    "            \n",
    "            True\n",
    "        else:\n",
    "            False \n",
    "    return True or False\n",
    "\n",
    "palabra= 'hoja'\n",
    "\n",
    "palindromo= es_palindromo(palabra)\n",
    "\n",
    "print(f'Es \"{palabra}\" un palindromo \"{palindromo}\"')"
   ]
  },
  {
   "cell_type": "code",
   "execution_count": 79,
   "metadata": {},
   "outputs": [
    {
     "name": "stdout",
     "output_type": "stream",
     "text": [
      "Es 'Anita lava la tina' un palindromo: 'True'\n"
     ]
    }
   ],
   "source": [
    "def es_palindromo (cadena_palabras):\n",
    "\n",
    "    # Eliminar espacios y convertir a minúsculas\n",
    "    cadena_palabras = cadena_palabras.replace(\" \", \"\").lower()\n",
    "    # Comparar la cadena con su inversa\n",
    "    return cadena_palabras == cadena_palabras[::-1]\n",
    "    \n",
    "\n",
    "cadena1= \"Anita lava la tina\"\n",
    "resultado_palindromo= es_palindromo(cadena1)\n",
    "print(f\"Es '{cadena1}' un palindromo: '{resultado_palindromo}'\")"
   ]
  },
  {
   "cell_type": "code",
   "execution_count": 80,
   "metadata": {},
   "outputs": [
    {
     "name": "stdout",
     "output_type": "stream",
     "text": [
      "La cadena 'No me ha dado' es un palíndromo: False\n"
     ]
    }
   ],
   "source": [
    "def es_palindromo(cadena):\n",
    "    # Eliminar espacios y convertir a minúsculas\n",
    "    cadena = cadena.replace(\" \", \"\").lower()\n",
    "    # Comparar la cadena con su inversa\n",
    "    return cadena == cadena[::-1]\n",
    "\n",
    "# Ejemplo de uso\n",
    "cadena = \"No me ha dado\"\n",
    "resultado = es_palindromo(cadena)\n",
    "print(f\"La cadena '{cadena}' es un palíndromo: {resultado}\")"
   ]
  },
  {
   "cell_type": "markdown",
   "metadata": {},
   "source": [
    "4. Calcular el promedio de una lista de números.\n",
    "Descripción: Crea una función llamada calcular_promedio que tome una lista de números como parámetro y devuelva el promedio de todos sus elementos."
   ]
  },
  {
   "cell_type": "code",
   "execution_count": 81,
   "metadata": {},
   "outputs": [
    {
     "name": "stdout",
     "output_type": "stream",
     "text": [
      " El resultado del promedio es: 5.5\n"
     ]
    }
   ],
   "source": [
    "def calcular_promedio (lista_numeros):\n",
    "\n",
    "    if len(lista_numeros) == 0:\n",
    "         return None\n",
    "    \n",
    "    suma_numeros=sum(lista_numeros)\n",
    "    cantidad_numeros= len(lista_numeros)\n",
    "    promedio= suma_numeros/cantidad_numeros\n",
    "\n",
    "    return promedio\n",
    "\n",
    "lista_numeros= [1,2,3,4,5,6,7,8,9,10]\n",
    "promedio1= calcular_promedio(lista_numeros)\n",
    "\n",
    "print (' El resultado del promedio es:', promedio1)"
   ]
  },
  {
   "cell_type": "markdown",
   "metadata": {},
   "source": [
    "5. Calcular el interés compuesto.\n",
    "\n",
    "Descripción: Crea una función llamada calcular_interes_compuesto que tome el capital inicial, la tasa de interés y el número de períodos como parámetros y devuelva el beneficio final después del interés compuesto."
   ]
  },
  {
   "cell_type": "code",
   "execution_count": 82,
   "metadata": {},
   "outputs": [
    {
     "name": "stdout",
     "output_type": "stream",
     "text": [
      "662.0000000000009\n"
     ]
    }
   ],
   "source": [
    "# interes compuesto= capital_inicial * (1 + tasa_interes) ** periodos\n",
    "\n",
    "def calcular_interes_compuesto(capital, tasa, periodos):\n",
    "    interes_compuesto= capital* ((1+tasa) ** periodos)\n",
    "    # se resta porque el interes compuesto suma al capital, el interes obtenido \n",
    "    beneficio_final= interes_compuesto - capital\n",
    "\n",
    "    return beneficio_final\n",
    "\n",
    "capitalinicial= 2000\n",
    "tasa1= 0.10\n",
    "periodos1=3\n",
    "\n",
    "resultado_beneficio = calcular_interes_compuesto(capitalinicial,tasa1,periodos1)\n",
    "\n",
    "print (resultado_beneficio)"
   ]
  },
  {
   "cell_type": "markdown",
   "metadata": {},
   "source": [
    "\n",
    "6. Validar si una palabra es un anagrama de otra.\n",
    "\n",
    "Descripción: Crea una función llamada es_anagrama que tome dos palabras como parámetros y devuelva True si una es un anagrama de la otra, o False si no lo es.\n",
    "¿Qué es un anagrama?."
   ]
  },
  {
   "cell_type": "code",
   "execution_count": 83,
   "metadata": {},
   "outputs": [
    {
     "name": "stdout",
     "output_type": "stream",
     "text": [
      "La amor y roma es un anagrama: True\n"
     ]
    }
   ],
   "source": [
    "def es_anagrama(palabra1,palabra2):\n",
    "    # Se debe organizar el orden alfabetico con sorted\n",
    "\n",
    "    caracteres_palabra1 = sorted(palabra1)\n",
    "    caracteres_palabra2 = sorted(palabra2)\n",
    "    \n",
    "  \n",
    "    # Comparar la cadena con su inversa\n",
    "    if caracteres_palabra1== caracteres_palabra2:\n",
    "        return True \n",
    "    else:\n",
    "        return False\n",
    "\n",
    "    # Ejemplo de uso\n",
    "palabra1 = \"amor\"\n",
    "palabra2 = \"roma\"\n",
    "resultado1 = es_anagrama(palabra1, palabra2)\n",
    "print(f\"La {palabra1} y {palabra2} es un anagrama: {resultado1}\")"
   ]
  },
  {
   "cell_type": "markdown",
   "metadata": {},
   "source": [
    "7. Validar si una cadena de texto es un isograma.\n",
    "Descripción: Crea una función llamada es_isograma que tome una cadena de texto como parámetro y devuelva True si es un isograma. En caso contrario, devuelve False.\n",
    "¿Qué es un isograma? Una palabra que no contiene letras repetidas."
   ]
  },
  {
   "cell_type": "code",
   "execution_count": 84,
   "metadata": {},
   "outputs": [
    {
     "name": "stdout",
     "output_type": "stream",
     "text": [
      "La palabra: casa es isograma: False\n"
     ]
    }
   ],
   "source": [
    "def es_isograma(cadena_iso):\n",
    "    # los set no admiten elementos duplicados\n",
    "    set_palabra= set(cadena_iso)\n",
    "    \n",
    "    # Tiene que ser un len para analizar una longitud\n",
    "\n",
    "    if len(set_palabra) == len(cadena_iso):\n",
    "        return True \n",
    "    else:\n",
    "        return False\n",
    "\n",
    "    # Ejemplo de uso\n",
    "\n",
    "cadena_iso = \"casa\"\n",
    "resultado2 = es_isograma(cadena_iso)\n",
    "print(f\"La palabra: {cadena_iso} es isograma: {resultado2}\")"
   ]
  },
  {
   "cell_type": "code",
   "execution_count": 85,
   "metadata": {},
   "outputs": [
    {
     "name": "stdout",
     "output_type": "stream",
     "text": [
      "{'a', 'c', 's'}\n"
     ]
    }
   ],
   "source": [
    "set_palabra= set(cadena_iso)\n",
    "print (set_palabra)"
   ]
  },
  {
   "cell_type": "markdown",
   "metadata": {},
   "source": [
    "8. Concatenar múltiples cadenas de texto\n",
    "Descripción: Crea una función llamada concatenar_cadenas que tome una cantidad variable de cadenas de texto como argumentos y devuelva una única cadena que contenga la concatenación de todas las cadenas ingresadas."
   ]
  },
  {
   "cell_type": "code",
   "execution_count": 86,
   "metadata": {},
   "outputs": [
    {
     "name": "stdout",
     "output_type": "stream",
     "text": [
      "hoy es jueves estamos estudiando\n"
     ]
    }
   ],
   "source": [
    "def concatenar_cadenas(*args) :\n",
    "    return \" \".join(args)\n",
    "    #siempre unirlos con join\n",
    "\n",
    "# cuando se quiere hacer una cadena con cantidad de argumentos ilimitados se utiliza args\n",
    "# args- desempaqueta como tupla\n",
    "\n",
    "resultado_concatenacion= concatenar_cadenas('hoy es', 'jueves', 'estamos', 'estudiando')\n",
    "\n",
    "print( resultado_concatenacion)"
   ]
  },
  {
   "cell_type": "markdown",
   "metadata": {},
   "source": [
    "9. Crear un diccionario con información de una persona.\n",
    "Descripción: Crea una función llamada crear_persona que tome como argumentos clave-valor los datos de una persona, como nombre, edad, ciudad, etc., y devuelva un diccionario con toda la información ingresada."
   ]
  },
  {
   "cell_type": "code",
   "execution_count": 87,
   "metadata": {},
   "outputs": [
    {
     "name": "stdout",
     "output_type": "stream",
     "text": [
      "nombre: Maria\n",
      "edad: 12\n",
      "ciudad: Madrid\n"
     ]
    }
   ],
   "source": [
    "def crear_persona(**kwargs):\n",
    "    # se utiliza para dar una cantidad de argumentos ilitada o no definida\n",
    "    #kwargs entrega diccionarios, si queremos conocer sus key-value, debemos utilizar items para llamar a todos\n",
    "\n",
    "    for key,value in kwargs.items():\n",
    "        print (f'{key}: {value}')\n",
    "\n",
    "crear_persona (nombre= 'Maria', edad = 12, ciudad = 'Madrid' )\n"
   ]
  },
  {
   "cell_type": "markdown",
   "metadata": {},
   "source": [
    "10. Encontrar el número que falta en una lista ordenada de números consecutivos.\n",
    "Descripción: Crea una función llamada encontrar_numero_faltante que tome una lista de números consecutivos (del 1 al N, sin repetir) con un número faltante y devuelva ese número faltante."
   ]
  },
  {
   "cell_type": "code",
   "execution_count": null,
   "metadata": {},
   "outputs": [
    {
     "name": "stdout",
     "output_type": "stream",
     "text": [
      "[2]\n"
     ]
    }
   ],
   "source": [
    "def encontrar_numero_faltante(lista):\n",
    "\n",
    "    lista_rango = list(range(1,11))\n",
    "    numero_faltante = []\n",
    "    for num in lista_rango:\n",
    "        # Para que pueda funcionar no puedo guardar la lista despues de un sort ya que no queda un nuevo valor, si no que actua \n",
    "        # sobre la lista original\n",
    "        if num not in lista_numeros:\n",
    "            numero_faltante.append(num)\n",
    "            return numero_faltante\n",
    "        \n",
    "\n",
    "lista_numeros = [3,1,4,5]\n",
    "print(encontrar_numero_faltante(lista_numeros))"
   ]
  },
  {
   "cell_type": "markdown",
   "metadata": {},
   "source": [
    "\n",
    "11. Encontrar el elemento duplicado en una lista de números.\n",
    "Descripción: Crea una función llamada encontrar_duplicado que tome una lista de números enteros y devuelva el elemento que está duplicado en la lista."
   ]
  },
  {
   "cell_type": "code",
   "execution_count": null,
   "metadata": {},
   "outputs": [
    {
     "name": "stdout",
     "output_type": "stream",
     "text": [
      "Esta es nuestra lista de numeros duplicados: [1, 2]\n"
     ]
    }
   ],
   "source": [
    "def encontrar_duplicado(lista_num):\n",
    "    num_duplicado = []\n",
    "    contador = {}\n",
    "    for num in lista_num:\n",
    "        if num in contador:\n",
    "            contador [num] += 1\n",
    "        else:\n",
    "            contador [num] = 1\n",
    "    \n",
    "    for num,count in contador.items():\n",
    "        if count > 1:\n",
    "            num_duplicado.append(num)\n",
    "    return num_duplicado\n",
    "lista_duplicada = [1,1,1,1,2,2,3,4,5]\n",
    "print(\"Esta es nuestra lista de numeros duplicados:\", encontrar_duplicado(lista_duplicada)) # en () se mete tus argumentos"
   ]
  }
 ],
 "metadata": {
  "kernelspec": {
   "display_name": "base",
   "language": "python",
   "name": "python3"
  },
  "language_info": {
   "codemirror_mode": {
    "name": "ipython",
    "version": 3
   },
   "file_extension": ".py",
   "mimetype": "text/x-python",
   "name": "python",
   "nbconvert_exporter": "python",
   "pygments_lexer": "ipython3",
   "version": "3.12.4"
  }
 },
 "nbformat": 4,
 "nbformat_minor": 2
}
