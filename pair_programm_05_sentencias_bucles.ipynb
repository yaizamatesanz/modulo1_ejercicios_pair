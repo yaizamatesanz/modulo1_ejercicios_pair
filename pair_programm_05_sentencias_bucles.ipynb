{
 "cells": [
  {
   "cell_type": "markdown",
   "metadata": {},
   "source": [
    "## Ejericios bucles for\n",
    "\n",
    "1. Imprimir los números del 1 al 5 utilizando un bucle for\n",
    "Descripción: Utiliza un bucle for para imprimir los números del 1 al 5 (incluido) en orden ascendente."
   ]
  },
  {
   "cell_type": "code",
   "execution_count": 4,
   "metadata": {},
   "outputs": [
    {
     "data": {
      "text/plain": [
       "[1, 2, 3, 4, 5]"
      ]
     },
     "execution_count": 4,
     "metadata": {},
     "output_type": "execute_result"
    }
   ],
   "source": [
    "lista_numeros = []\n",
    "\n",
    "for i in range(1,6): \n",
    "    lista_numeros.append(i)\n",
    "\n",
    "lista_numeros"
   ]
  },
  {
   "cell_type": "markdown",
   "metadata": {},
   "source": [
    "2. Calcular la suma de los primeros 10 números naturales utilizando un bucle for\n",
    "Descripción: Utiliza un bucle for para calcular la suma de los primeros 10 números naturales (1 + 2 + 3 + ... + 10)."
   ]
  },
  {
   "cell_type": "code",
   "execution_count": 19,
   "metadata": {},
   "outputs": [
    {
     "data": {
      "text/plain": [
       "55"
      ]
     },
     "execution_count": 19,
     "metadata": {},
     "output_type": "execute_result"
    }
   ],
   "source": [
    "suma=0\n",
    "for i in range (1,11): \n",
    "    suma+=i\n",
    "\n",
    "\n",
    "suma"
   ]
  },
  {
   "cell_type": "markdown",
   "metadata": {},
   "source": [
    "\n",
    "3. Calcular el producto de los elementos de una lista\n",
    "\n",
    "Descripción: Dada una lista de números, utiliza un bucle for para calcular el producto de todos los elementos."
   ]
  },
  {
   "cell_type": "code",
   "execution_count": 31,
   "metadata": {},
   "outputs": [
    {
     "name": "stdout",
     "output_type": "stream",
     "text": [
      "El producto de los elementos de la lista es: 160769448000\n"
     ]
    }
   ],
   "source": [
    "lista_num= [23, 322,45, 67, 80,90]\n",
    "\n",
    "multiplicador=1\n",
    "\n",
    "\n",
    "for elemento in lista_num:\n",
    "    multiplicador *= elemento\n",
    "    \n",
    "print(f'El producto de los elementos de la lista es: {multiplicador}')\n",
    "    \n"
   ]
  },
  {
   "cell_type": "markdown",
   "metadata": {},
   "source": [
    "4. Imprimir los caracteres de una cadena de texto\n",
    "\n",
    "Descripción: Dada una cadena de texto, utiliza un bucle for para imprimir cada carácter en una línea separada."
   ]
  },
  {
   "cell_type": "code",
   "execution_count": 5,
   "metadata": {},
   "outputs": [
    {
     "name": "stdout",
     "output_type": "stream",
     "text": [
      " SOCORRO,AQUI VAMOS\n"
     ]
    }
   ],
   "source": [
    "cadena_texto = ' SOCORRO,AQUI VAMOS'\n",
    "\n",
    "for caracteres in cadena_texto:\n",
    "  cadena_unida= '' ''.join (cadena_texto)\n",
    "\n",
    "print (cadena_unida)"
   ]
  },
  {
   "cell_type": "markdown",
   "metadata": {},
   "source": [
    "\n",
    "5. Imprimir los números pares del 1 al 100 utilizando un bucle for\n",
    "\n",
    "Descripción: Utiliza un bucle for para imprimir los números pares del 1 al 100 en orden ascendente."
   ]
  },
  {
   "cell_type": "code",
   "execution_count": 36,
   "metadata": {},
   "outputs": [
    {
     "name": "stdout",
     "output_type": "stream",
     "text": [
      "La lista de pares es: [2, 4, 6, 8, 10, 12, 14, 16, 18, 20, 22, 24, 26, 28, 30, 32, 34, 36, 38, 40, 42, 44, 46, 48, 50, 52, 54, 56, 58, 60, 62, 64, 66, 68, 70, 72, 74, 76, 78, 80, 82, 84, 86, 88, 90, 92, 94, 96, 98, 100]\n"
     ]
    }
   ],
   "source": [
    "pares= []\n",
    "\n",
    "for par in range(1,101):\n",
    "    if par % 2 == 0:\n",
    "        pares.append(par)\n",
    "\n",
    "print (f'La lista de pares es: {pares}')\n",
    "\n",
    "# si lo hacemos con ubicacion \n",
    "for par in range(1,101,2)"
   ]
  },
  {
   "cell_type": "markdown",
   "metadata": {},
   "source": [
    "6. Imprimir los números primos del 1 al 50 utilizando un bucle for\n",
    "\n",
    "Descripción: Utiliza un bucle for para imprimir los números primos del 1 al 50 en orden ascendente.\n",
    "\n",
    "NOTA: Según la Wikipedia, un número primo es un número natural mayor que 1 que no tiene divisores positivos más que 1 y él mismo."
   ]
  },
  {
   "cell_type": "code",
   "execution_count": 43,
   "metadata": {},
   "outputs": [
    {
     "name": "stdout",
     "output_type": "stream",
     "text": [
      "La lista de pares es: [True, True, True, True, True, True, True, True, True, True, True, True, True, True, True, True, True, True, True, True, True, True, True, True, True, True, True, True, True, True, True, True, True, True, True, True, True, True, True, True, True, True, True, True, True, True, True, True, True, True]\n"
     ]
    }
   ],
   "source": [
    "Lista_numeros_primos= []\n",
    "\n",
    "for numero in range(1,51):\n",
    "    numero_primo = numero % 1 == 0\n",
    "    if numero_primo:\n",
    "        Lista_numeros_primos.append(numero_primo)\n",
    "\n",
    "print (f'La lista de pares es: {Lista_numeros_primos}')"
   ]
  },
  {
   "cell_type": "markdown",
   "metadata": {},
   "source": [
    "\n",
    "7. Calcular el factorial de un número utilizando un bucle for\n",
    "Descripción: Dado un número entero positivo, calcula su factorial utilizando un bucle for."
   ]
  },
  {
   "cell_type": "code",
   "execution_count": 52,
   "metadata": {},
   "outputs": [
    {
     "name": "stdout",
     "output_type": "stream",
     "text": [
      "El factorial del numero 3 es: 6\n"
     ]
    }
   ],
   "source": [
    "# Queremos buscar el factorial del numero 3\n",
    "factorial = 1\n",
    "\n",
    "for num in range(1,4) :\n",
    "    factorial *= num\n",
    "    \n",
    "print(f'El factorial del numero 3 es: {factorial}')"
   ]
  },
  {
   "cell_type": "markdown",
   "metadata": {},
   "source": [
    "8. Juego de adivinar palabras utilizando un bucle for\n",
    "Descripción: Crea un juego en el que el jugador debe adivinar una palabra secreta. El jugador tiene un número limitado de intentos y se le proporcionan pistas después de cada intento. Utiliza un bucle for para controlar los intentos del jugador."
   ]
  },
  {
   "cell_type": "code",
   "execution_count": 70,
   "metadata": {},
   "outputs": [
    {
     "name": "stdout",
     "output_type": "stream",
     "text": [
      " Tienes dos intentos mas\n",
      " Tienes un intento mas\n",
      "Lo siento, se acabaron tus oportunidades\n"
     ]
    }
   ],
   "source": [
    "palabra_secreta = \"azucar\"\n",
    "palabra_usuario = str(input('Introduce la palabra secreta, tienes 3 intentos'))\n",
    "\n",
    "for palabra_usuario in palabra_secreta:\n",
    "    if palabra_usuario == palabra_secreta:\n",
    "        print (' La has adivinado') \n",
    "    else : \n",
    "        print (' Tienes dos intentos mas')\n",
    "    \n",
    "\n",
    "    if palabra_secreta == palabra_usuario:\n",
    "        print (' La has adivinado') \n",
    "    else : \n",
    "        print (' Tienes un intento mas')\n",
    "        pass\n",
    "    if palabra_secreta == palabra_usuario:\n",
    "        print (' La has adivinado') \n",
    "    else : \n",
    "        print ('Lo siento, se acabaron tus oportunidades')\n",
    "    break\n",
    "\n",
    "    "
   ]
  },
  {
   "cell_type": "markdown",
   "metadata": {},
   "source": [
    "## Ejercicios _list comprehension\n",
    "\n",
    "Generar una lista de los números pares del 1 al 20.\n",
    "Descripción: Utiliza list comprehension para generar una lista que contenga todos los números pares en el rango del 1 al 20.\n"
   ]
  },
  {
   "cell_type": "code",
   "execution_count": 7,
   "metadata": {},
   "outputs": [
    {
     "name": "stdout",
     "output_type": "stream",
     "text": [
      "La lista de numeros pares es:[2, 4, 6, 8, 10, 12, 14, 16, 18]\n"
     ]
    }
   ],
   "source": [
    "lista_pares= [num for num in range(1,20) if num % 2 == 0 ]\n",
    "\n",
    "print( f'La lista de numeros pares es:{lista_pares}')"
   ]
  },
  {
   "cell_type": "markdown",
   "metadata": {},
   "source": [
    "Obtener una lista de las vocales en una cadena de texto.\n",
    "Descripción: Utiliza list comprehension para crear una lista que contenga todas las vocales presentes en una cadena de texto (sin repetición).\n"
   ]
  },
  {
   "cell_type": "code",
   "execution_count": 19,
   "metadata": {},
   "outputs": [
    {
     "name": "stdout",
     "output_type": "stream",
     "text": [
      "La lista de vocales en la frase:  vamos a la playa es: {'a', 'o'}\n"
     ]
    }
   ],
   "source": [
    "cadena_texto2= ' vamos a la playa'\n",
    "vocales= 'aeiou'\n",
    "\n",
    "# Se utiliza un set ya que no se puede repetir los valores \n",
    "lista_vocales= {caracter for caracter in cadena_texto2 if caracter in vocales }\n",
    "\n",
    "print(f'La lista de vocales en la frase: {cadena_texto2} es: {lista_vocales}')"
   ]
  },
  {
   "cell_type": "markdown",
   "metadata": {},
   "source": [
    "Filtrar los números positivos de una lista y calcular su cuadrado.\n",
    "Descripción: Utiliza list comprehension para filtrar los números positivos de una lista y calcular el cuadrado de cada uno."
   ]
  },
  {
   "cell_type": "code",
   "execution_count": 21,
   "metadata": {},
   "outputs": [
    {
     "name": "stdout",
     "output_type": "stream",
     "text": [
      "La lista de los numeros positivos al cuadrado es: [1, 4, 9, 16]\n"
     ]
    }
   ],
   "source": [
    "lista_num1= range(-5,5)\n",
    "\n",
    "cuadrados_positivos = [num** 2 for num in lista_num1 if num >0]\n",
    "print(f\"La lista de los numeros positivos al cuadrado es: {cuadrados_positivos}\")"
   ]
  },
  {
   "cell_type": "markdown",
   "metadata": {},
   "source": [
    "## Ejercicios try ...except\n",
    "\n",
    "Realizar una búsqueda en una lista y capturar una excepción en caso de valor no encontrado.\n",
    "Descripción: Solicita al usuario una lista de nombres y un nombre para buscar en la lista. Intenta encontrar el nombre en la lista y utiliza las sentencias try y except para capturar la excepción en caso de que el nombre no sea encontrado."
   ]
  },
  {
   "cell_type": "code",
   "execution_count": 30,
   "metadata": {},
   "outputs": [
    {
     "name": "stdout",
     "output_type": "stream",
     "text": [
      "La lista de tus clientes es['ana, domingo , salo']\n",
      "Cliente salo\n"
     ]
    }
   ],
   "source": [
    "\n",
    "try:\n",
    "    lista_nombres=input('Escribe una lista de nombres de tus clientes').lower().split(',')\n",
    "    print(f'La lista de tus clientes es{lista_nombres}')\n",
    "    cliente = (input('Cual cliente quieres verificar')).lower()\n",
    "    print(f'Cliente {cliente}')\n",
    "\n",
    "except ValueError:\n",
    "    print(\"debe ingresar un número válido\")\n",
    "    print(f'Revisa si escribiste bien el nombre, este no se ha encontrado')"
   ]
  },
  {
   "cell_type": "code",
   "execution_count": 32,
   "metadata": {},
   "outputs": [
    {
     "name": "stdout",
     "output_type": "stream",
     "text": [
      "La lista de tus clientes es['8']\n",
      "Cliente 9\n"
     ]
    }
   ],
   "source": [
    "try:\n",
    "    lista_nombres=[input('Escribe una lista de nombres de tus clientes').lower()]\n",
    "    print(f'La lista de tus clientes es{lista_nombres}')\n",
    "    cliente = (input('Cual cliente quieres verificar')).lower()\n",
    "    print(f'Cliente {cliente}')\n",
    "\n",
    "except ValueError:\n",
    "    print(\"debe ingresar un número válido\")\n",
    "    print(f'Revisa si escribiste bien el nombre, este no se ha encontrado')"
   ]
  },
  {
   "cell_type": "code",
   "execution_count": 35,
   "metadata": {},
   "outputs": [
    {
     "name": "stdout",
     "output_type": "stream",
     "text": [
      "La lista de tus clientes es: ['maria', 'jose', 'luis']\n"
     ]
    }
   ],
   "source": [
    "try:\n",
    "    # Solicitamos la lista de nombres, separados por comas o espacios\n",
    "    lista_nombres = input('Escribe una lista de nombres de tus clientes, separados por comas o espacios: ').lower().replace(',', ' ').split()\n",
    "    \n",
    "    print(f'La lista de tus clientes es: {lista_nombres}')\n",
    "    \n",
    "    # Solicitamos el nombre del cliente a verificar\n",
    "    cliente = input('¿Cuál cliente quieres verificar? ').lower()\n",
    "\n",
    "    \n",
    "    # Verificamos si el cliente está en la lista\n",
    "    if cliente not in lista_nombres:\n",
    "        ValueError(f\"El cliente '{cliente}' no se encuentra en la lista.\")\n",
    "    else: print(f\"El cliente '{cliente}' está en la lista.\")\n",
    "\n",
    "except ValueError:\n",
    "    print(\"Revisa si escribiste bien el nombre.\")"
   ]
  }
 ],
 "metadata": {
  "kernelspec": {
   "display_name": "base",
   "language": "python",
   "name": "python3"
  },
  "language_info": {
   "codemirror_mode": {
    "name": "ipython",
    "version": 3
   },
   "file_extension": ".py",
   "mimetype": "text/x-python",
   "name": "python",
   "nbconvert_exporter": "python",
   "pygments_lexer": "ipython3",
   "version": "3.12.4"
  }
 },
 "nbformat": 4,
 "nbformat_minor": 2
}
