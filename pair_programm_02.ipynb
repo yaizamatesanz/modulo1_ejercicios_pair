{
 "cells": [
  {
   "cell_type": "markdown",
   "metadata": {},
   "source": [
    "1. Duplicar elementos de una lista\n",
    "Descripción: Dada una lista de números, duplica cada elemento en la lista. Ejemplo:"
   ]
  },
  {
   "cell_type": "code",
   "execution_count": 11,
   "metadata": {},
   "outputs": [
    {
     "name": "stdout",
     "output_type": "stream",
     "text": [
      "la lista duplicada es:  [2, 4, 6, 8, 2, 4, 6, 8]\n"
     ]
    }
   ],
   "source": [
    "# dada la siguiente lista el output esperado es:\n",
    "lista = [2, 4, 6, 8]\n",
    "\n",
    "[2, 4, 6, 8, 2, 4, 6, 8]\n",
    "\n",
    "lista_duplicada= (lista+ lista)\n",
    "print ('la lista duplicada es: ', lista_duplicada)"
   ]
  },
  {
   "cell_type": "markdown",
   "metadata": {},
   "source": [
    "\n",
    "2. Combinar dos listas\n",
    "Descripción: Dadas dos listas, crea una nueva lista que contenga todos los elementos de ambas listas. Ejemplo:"
   ]
  },
  {
   "cell_type": "code",
   "execution_count": 12,
   "metadata": {},
   "outputs": [
    {
     "name": "stdout",
     "output_type": "stream",
     "text": [
      "nueva lista con elementos lista1 y lista: [1, 2, 3, 4, 5, 6]\n"
     ]
    }
   ],
   "source": [
    "# dadas las siguientes listas el output esperado es:\n",
    "lista1 = [1, 2, 3]\n",
    "lista2 = [4, 5, 6]\n",
    "\n",
    "lista_ampliada = (lista1 + lista2)\n",
    "print ('nueva lista con elementos lista1 y lista:', lista_ampliada)"
   ]
  },
  {
   "cell_type": "markdown",
   "metadata": {},
   "source": [
    "\n",
    "3. Calcular la suma de una lista de números\n",
    "Descripción: Dada una lista de números, calcula la suma de todos los elementos."
   ]
  },
  {
   "cell_type": "code",
   "execution_count": 13,
   "metadata": {},
   "outputs": [
    {
     "name": "stdout",
     "output_type": "stream",
     "text": [
      "la longitud de la lista ampliada es: 21\n"
     ]
    }
   ],
   "source": [
    "suma_lista= sum(lista_ampliada)\n",
    "print ('la longitud de la lista ampliada es:',suma_lista)"
   ]
  },
  {
   "cell_type": "markdown",
   "metadata": {},
   "source": [
    "4. Encontrar el valor máximo en una lista\n",
    "Descripción: Dada una lista de números, encuentra el valor máximo."
   ]
  },
  {
   "cell_type": "code",
   "execution_count": 14,
   "metadata": {},
   "outputs": [
    {
     "name": "stdout",
     "output_type": "stream",
     "text": [
      "el valor maximo de la lista es: 8\n"
     ]
    }
   ],
   "source": [
    "maximo_lista= max(lista_duplicada)\n",
    "print ('el valor maximo de la lista es:', maximo_lista)"
   ]
  },
  {
   "cell_type": "markdown",
   "metadata": {},
   "source": [
    "5. Calcular la longitud de una lista\n",
    "Descripción: Dada una lista, calcula la cantidad de elementos que contiene."
   ]
  },
  {
   "cell_type": "code",
   "execution_count": 15,
   "metadata": {},
   "outputs": [
    {
     "name": "stdout",
     "output_type": "stream",
     "text": [
      "la longitud de la lista ampliada es: 6\n"
     ]
    }
   ],
   "source": [
    "longitud_lista= len (lista_ampliada)\n",
    "print ('la longitud de la lista ampliada es:', longitud_lista)"
   ]
  },
  {
   "cell_type": "markdown",
   "metadata": {},
   "source": [
    "6. Encontrar el índice de un elemento en una lista\n",
    "Descripción: Dada una lista y un valor objetivo, encuentra el índice del primer elemento que coincida con el valor objetivo."
   ]
  },
  {
   "cell_type": "code",
   "execution_count": 17,
   "metadata": {},
   "outputs": [
    {
     "name": "stdout",
     "output_type": "stream",
     "text": [
      "la posición del 2 en lista ampliada es: 3\n"
     ]
    }
   ],
   "source": [
    "print('la posición del 2 en lista ampliada es:',lista_ampliada[2])\n",
    "\n",
    "# se busca la posición directamente en la lista, en el corchete poner el elemento específico [] "
   ]
  },
  {
   "cell_type": "markdown",
   "metadata": {},
   "source": [
    "7. Contar ocurrencias de un elemento en una lista\n",
    "Descripción: Dada una lista y un valor objetivo, cuenta cuántas veces aparece el valor objetivo en la lista."
   ]
  },
  {
   "cell_type": "code",
   "execution_count": 20,
   "metadata": {},
   "outputs": [
    {
     "name": "stdout",
     "output_type": "stream",
     "text": [
      "El número de ocurrencias del elemento 5 en la lista duplicada es: 0\n"
     ]
    }
   ],
   "source": [
    "print('El número de ocurrencias del elemento 5 en la lista duplicada es:', lista_duplicada.count(5))"
   ]
  },
  {
   "cell_type": "markdown",
   "metadata": {},
   "source": [
    "8. Obtener una sublista de una lista\n",
    "Descripción: Dada una lista, crea una nueva lista que contenga los elementos desde el índice 2 hasta el índice 5 (sin incluirlo)."
   ]
  },
  {
   "cell_type": "code",
   "execution_count": 23,
   "metadata": {},
   "outputs": [
    {
     "name": "stdout",
     "output_type": "stream",
     "text": [
      "la sublista de lista_duplicada es: [6, 8, 2]\n",
      " la lista duplita es  [2, 4, 6, 8, 2, 4, 6, 8]\n"
     ]
    }
   ],
   "source": [
    "Lista_sublista = lista_duplicada[2:5]\n",
    "print('la sublista de lista_duplicada es:', Lista_sublista)\n",
    "print (' la lista duplita es ', lista_duplicada)\n",
    "\n"
   ]
  },
  {
   "cell_type": "markdown",
   "metadata": {},
   "source": [
    "9. Obtener el último elemento de una lista\n",
    "Descripción: Dada una lista, obtén el último elemento."
   ]
  },
  {
   "cell_type": "code",
   "execution_count": 24,
   "metadata": {},
   "outputs": [
    {
     "name": "stdout",
     "output_type": "stream",
     "text": [
      "el elemento en la última posición es: 8\n"
     ]
    }
   ],
   "source": [
    "print('el elemento en la última posición es:',lista_duplicada[-1])"
   ]
  },
  {
   "cell_type": "markdown",
   "metadata": {},
   "source": [
    "11. Obtener una sublista de una lista\n",
    "Descripción: Dada una lista, obtén una sublista que contenga los elementos desde el índice 1 hasta el índice 3 (sin incluirlo)."
   ]
  },
  {
   "cell_type": "code",
   "execution_count": 27,
   "metadata": {},
   "outputs": [
    {
     "name": "stdout",
     "output_type": "stream",
     "text": [
      " la lista duplicada es  [1, 2, 3, 4, 5, 6]\n",
      "la sublista de lista_ampliada es: [2, 3]\n"
     ]
    }
   ],
   "source": [
    "Lista_sublista2= lista_ampliada[1:3]\n",
    "print (' la lista duplicada es ', lista_ampliada)\n",
    "print('la sublista de lista_ampliada es:', Lista_sublista2)"
   ]
  },
  {
   "cell_type": "markdown",
   "metadata": {},
   "source": [
    "12. Reemplazar un elemento en una lista\n",
    "Descripción: Dada una lista, reemplaza el segundo elemento con un nuevo valor."
   ]
  },
  {
   "cell_type": "code",
   "execution_count": 28,
   "metadata": {},
   "outputs": [
    {
     "name": "stdout",
     "output_type": "stream",
     "text": [
      "se ha reemplazado la posición 2 por: [1, 20, 3, 4, 5, 6]\n"
     ]
    }
   ],
   "source": [
    "lista_ampliada [1] = 20\n",
    "print('se ha reemplazado la posición 2 por:', lista_ampliada)\n",
    "\n",
    "# para cambiar un elemento en su posición es necesario indicar su indice"
   ]
  },
  {
   "cell_type": "markdown",
   "metadata": {},
   "source": [
    "\n",
    "13. Obtener una lista inversa\n",
    "Descripción: Dada una lista, obtén una nueva lista que contenga los elementos en orden inverso."
   ]
  },
  {
   "cell_type": "code",
   "execution_count": 29,
   "metadata": {},
   "outputs": [
    {
     "name": "stdout",
     "output_type": "stream",
     "text": [
      "el orden la lista sin organizar: [2, 4, 6, 8, 2, 4, 6, 8]\n",
      "la lista invertida es: [8, 6, 4, 2, 8, 6, 4, 2]\n"
     ]
    }
   ],
   "source": [
    "print('el orden la lista sin organizar:', lista_duplicada)\n",
    "\n",
    "lista_duplicada.reverse()\n",
    "print('la lista invertida es:', lista_duplicada)"
   ]
  },
  {
   "cell_type": "markdown",
   "metadata": {},
   "source": [
    "14. Ordenar una lista en orden ascendente\n",
    "Descripción: Dada una lista de números, ordénala en orden ascendente."
   ]
  },
  {
   "cell_type": "code",
   "execution_count": 32,
   "metadata": {},
   "outputs": [
    {
     "name": "stdout",
     "output_type": "stream",
     "text": [
      "El orden la lista sin organizar: [2, 2, 4, 4, 6, 6, 8, 8]\n",
      "La lista invertida es: [2, 2, 4, 4, 6, 6, 8, 8]\n"
     ]
    }
   ],
   "source": [
    "print('El orden la lista sin organizar:', lista_duplicada)\n",
    "lista_duplicada.sort()\n",
    "print('La lista invertida es:', lista_duplicada)"
   ]
  },
  {
   "cell_type": "markdown",
   "metadata": {},
   "source": [
    "## Ejercicios de tuplas"
   ]
  },
  {
   "cell_type": "markdown",
   "metadata": {},
   "source": [
    "1.Acceder al primer elemento de una tupla\n",
    "Descripción: Dada una tupla, obtén el primer elemento."
   ]
  },
  {
   "cell_type": "code",
   "execution_count": 4,
   "metadata": {},
   "outputs": [
    {
     "name": "stdout",
     "output_type": "stream",
     "text": [
      "el prime elemnto de la tupla es:  2\n"
     ]
    }
   ],
   "source": [
    "tupla_1= (2,8, 45, 50,23,32, 14)\n",
    "print ('el prime elemnto de la tupla es: ',tupla_1[0])\n"
   ]
  },
  {
   "cell_type": "markdown",
   "metadata": {},
   "source": [
    "\n",
    "2. Acceder al último elemento de una tupla\n",
    "Descripción: Dada una tupla, obtén el último elemento."
   ]
  },
  {
   "cell_type": "code",
   "execution_count": 5,
   "metadata": {},
   "outputs": [
    {
     "name": "stdout",
     "output_type": "stream",
     "text": [
      "el último elemento de la tupla es, 14\n"
     ]
    }
   ],
   "source": [
    "print ('el último elemento de la tupla es,', tupla_1[-1])"
   ]
  },
  {
   "cell_type": "markdown",
   "metadata": {},
   "source": [
    "3. Obtener la longitud de una tupla\n",
    "Descripción: Dada una tupla, obtén la cantidad de elementos que contiene."
   ]
  },
  {
   "cell_type": "code",
   "execution_count": 6,
   "metadata": {},
   "outputs": [
    {
     "name": "stdout",
     "output_type": "stream",
     "text": [
      " La longitud de la Tupla es: 7\n"
     ]
    }
   ],
   "source": [
    "print(' La longitud de la Tupla es:', len(tupla_1))"
   ]
  },
  {
   "cell_type": "markdown",
   "metadata": {},
   "source": [
    "4. Concatenar dos tuplas\n",
    "Descripción: Dadas dos tuplas, crea una nueva tupla que contenga todos los elementos de ambas tuplas."
   ]
  },
  {
   "cell_type": "code",
   "execution_count": 9,
   "metadata": {},
   "outputs": [
    {
     "name": "stdout",
     "output_type": "stream",
     "text": [
      " La nueva Tupla_3 es:  (2, 8, 45, 50, 23, 32, 14, 3, 4, 12, 5, 6, 7)\n"
     ]
    }
   ],
   "source": [
    "tupla_2 = (3,4,12,5,6,7)\n",
    "Lista_tupla1 = list(tupla_1)\n",
    "Lista_tupla2 = list (tupla_2)\n",
    "\n",
    "Lista_tupla3= Lista_tupla1+ Lista_tupla2\n",
    "print (' La nueva Tupla_3 es: ', tuple(Lista_tupla3))"
   ]
  },
  {
   "cell_type": "markdown",
   "metadata": {},
   "source": [
    "5. Encontrar el índice de un elemento en una tupla\n",
    "Descripción: Dada una tupla y un valor objetivo, encuentra el índice del primer elemento que coincida con el valor objetivo."
   ]
  },
  {
   "cell_type": "code",
   "execution_count": 10,
   "metadata": {},
   "outputs": [
    {
     "name": "stdout",
     "output_type": "stream",
     "text": [
      " El indice del elemento 14, es: 6\n"
     ]
    }
   ],
   "source": [
    "print( ' El indice del elemento 14, es:', Lista_tupla3.index(14) )"
   ]
  },
  {
   "cell_type": "markdown",
   "metadata": {},
   "source": [
    "6. Contar ocurrencias de un elemento en una tupla\n",
    "Descripción: Dada una tupla y un valor objetivo, cuenta cuántas veces aparece el valor objetivo en la tupla."
   ]
  },
  {
   "cell_type": "code",
   "execution_count": 11,
   "metadata": {},
   "outputs": [
    {
     "name": "stdout",
     "output_type": "stream",
     "text": [
      "La cantidad de ocurrencias del elemento 3 es: 1\n"
     ]
    }
   ],
   "source": [
    "print('La cantidad de ocurrencias del elemento 3 es:', Lista_tupla3.count(3))"
   ]
  },
  {
   "cell_type": "markdown",
   "metadata": {},
   "source": [
    "7. Obtener una subtuple de una tupla\n",
    "Descripción: Dada una tupla, crea una nueva tupla que contenga los elementos desde el índice 1 hasta el índice 3 (sin incluirlo)."
   ]
  },
  {
   "cell_type": "code",
   "execution_count": 15,
   "metadata": {},
   "outputs": [
    {
     "name": "stdout",
     "output_type": "stream",
     "text": [
      "[2, 8, 45, 50, 23, 32, 14, 3, 4, 12, 5, 6, 7]\n",
      " La nueva subtupla es: (8, 45)\n"
     ]
    }
   ],
   "source": [
    "print (Lista_tupla3)\n",
    "sub_lista_tupla3= Lista_tupla3 [1:3]\n",
    "print (' La nueva subtupla es:', tuple(sub_lista_tupla3))"
   ]
  },
  {
   "cell_type": "markdown",
   "metadata": {},
   "source": [
    "\n",
    "Invertir una tupla\n",
    "Descripción: Dada una tupla, inviértela en orden."
   ]
  },
  {
   "cell_type": "code",
   "execution_count": 27,
   "metadata": {},
   "outputs": [
    {
     "name": "stdout",
     "output_type": "stream",
     "text": [
      " La lista sin invertir el orden es:  [7, 6, 5, 12, 4, 3, 14, 32, 23, 50, 45, 8, 2]\n"
     ]
    }
   ],
   "source": [
    "Lista_tupla3 = [2, 8, 45, 50, 23, 32, 14, 3, 4, 12, 5, 6, 7]\n",
    "\n",
    "Lista_tupla3.reverse()\n",
    "print (' La lista sin invertir el orden es: ', Lista_tupla3 )\n",
    "\n",
    "# .reverse() siempre modifica la lista original, en caso que se quiera mantener la lista origianl se puede hacer .copy()"
   ]
  },
  {
   "cell_type": "code",
   "execution_count": null,
   "metadata": {},
   "outputs": [],
   "source": []
  }
 ],
 "metadata": {
  "kernelspec": {
   "display_name": "base",
   "language": "python",
   "name": "python3"
  },
  "language_info": {
   "codemirror_mode": {
    "name": "ipython",
    "version": 3
   },
   "file_extension": ".py",
   "mimetype": "text/x-python",
   "name": "python",
   "nbconvert_exporter": "python",
   "pygments_lexer": "ipython3",
   "version": "3.12.4"
  }
 },
 "nbformat": 4,
 "nbformat_minor": 2
}
