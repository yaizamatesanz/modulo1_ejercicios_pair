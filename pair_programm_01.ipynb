{
 "cells": [
  {
   "cell_type": "markdown",
   "metadata": {},
   "source": [
    "Los objetivos del pair programming de hoy son:\n",
    "\n",
    "Cread tres variables numéricas de tipo integer (entero), llamadas de la siguiente forma:\n",
    "\n",
    "numero1\n",
    "\n",
    "numero2\n",
    "\n",
    "numero3\n",
    "\n",
    "Utilizando los operadores lógicos:\n",
    "\n",
    "En vuestro caso, es el numero1 mayor que el numero2\n",
    "\n",
    "Es el numero1 menor que el numero2 pero mayor que el numero3\n",
    "\n",
    "Es el numero3 igual que el numero2\n",
    "\n",
    "Es el numero2 distinto que el numero1\n",
    "\n",
    "Cread dos variables numéricas de tipo float (decimal) con dos decimales, llamdas de la siguiente forma:\n",
    "\n",
    "altura1\n",
    "\n",
    "altura2\n",
    "\n",
    "Utilizando los operadores matemáticos aprendidos en la lección:\n",
    "\n",
    "Cuál es la suma de las dos alturas\n",
    "\n",
    "Cuál es la diferencia entre las alturas\n",
    "\n",
    "Cuál es el resto de la división de las dos alturas\n",
    "\n",
    "Cuál es resultado de la división de las dos alturas, redondead el resultado a un decimal.\n",
    "\n",
    "Escribid un programa usando la función input() que le pregunte al usuario su nombre y apellidos. Una vez que tengamos el nombre del usuario:\n",
    "\n",
    "Printead su nombre y apellidos todo en mayúsculas\n",
    "\n",
    "Printead su nombre y apellidos todo en minúsculas\n",
    "\n",
    "Printead su nombre y apellidos con la primera letra del nombre y los apellidos en mayúscula y el resto en minúscula.\n",
    "\n",
    "Printeas solo la primera letra del nombre en mayúscula.\n",
    "\n",
    "Escribid un programa usando la función input() que:\n",
    "\n",
    "Le pregunte al usuario por una frase, almacenad este resultado en una variable.\n",
    "\n",
    "Le pregunte al usuario por una vocal, almacenad este resultado en una variable.\n",
    "\n",
    "Printead la misma frase pero con la vocal introducida en mayúsulas.\n",
    "\n",
    "Escribid un programa usando la función input() que:\n",
    "\n",
    "Le pregunte al usuario por la lista de la compra, separando cada elemento por comas.\n",
    "\n",
    "Devolved la lista de compra donde veamos cada elemento en una línea.\n",
    "\n",
    "💡Pista\n",
    "\n",
    "Para indicar salto de línea usaremos \"\\n\".\n",
    "\n",
    "Deberéis usar el método join de los strings\n",
    "\n",
    "📌 Output deseado\n",
    "\n",
    "Copy\n",
    "resultado_del_input = [\"peras\", \"manzanas\", \"naranjas\"]\n",
    "\n",
    "# output después del ejercicio\n",
    "\"peras\"\n",
    "\"manzanas\"\n",
    "\"naranjas\""
   ]
  },
  {
   "cell_type": "code",
   "execution_count": null,
   "metadata": {},
   "outputs": [],
   "source": [
    "numero1 = 20\n",
    "\n",
    "numero2 = 10\n",
    "\n",
    "numero3 = 5"
   ]
  },
  {
   "cell_type": "code",
   "execution_count": null,
   "metadata": {},
   "outputs": [
    {
     "name": "stdout",
     "output_type": "stream",
     "text": [
      "True\n"
     ]
    }
   ],
   "source": [
    "print(numero1 > numero2)"
   ]
  },
  {
   "cell_type": "code",
   "execution_count": null,
   "metadata": {},
   "outputs": [
    {
     "name": "stdout",
     "output_type": "stream",
     "text": [
      "False\n"
     ]
    }
   ],
   "source": [
    "print(numero1 < numero2\n",
    "      and numero1 > numero3)"
   ]
  },
  {
   "cell_type": "code",
   "execution_count": null,
   "metadata": {},
   "outputs": [
    {
     "name": "stdout",
     "output_type": "stream",
     "text": [
      "False\n"
     ]
    }
   ],
   "source": [
    "print(numero3 == numero2)"
   ]
  },
  {
   "cell_type": "code",
   "execution_count": null,
   "metadata": {},
   "outputs": [
    {
     "name": "stdout",
     "output_type": "stream",
     "text": [
      "True\n"
     ]
    }
   ],
   "source": [
    "print(numero2 != numero1)"
   ]
  },
  {
   "cell_type": "code",
   "execution_count": 4,
   "metadata": {},
   "outputs": [
    {
     "name": "stdout",
     "output_type": "stream",
     "text": [
      "0.7555555555555555\n"
     ]
    }
   ],
   "source": [
    "altura1= 34\n",
    "altura2= 45\n",
    "division= altura1/altura2\n",
    "print (division)"
   ]
  },
  {
   "cell_type": "code",
   "execution_count": 5,
   "metadata": {},
   "outputs": [
    {
     "name": "stdout",
     "output_type": "stream",
     "text": [
      "0.8\n"
     ]
    }
   ],
   "source": [
    "decimal= round (division,1)\n",
    "print (decimal)"
   ]
  },
  {
   "cell_type": "code",
   "execution_count": 27,
   "metadata": {},
   "outputs": [
    {
     "name": "stdout",
     "output_type": "stream",
     "text": [
      "tu nombre es: Andrea.\n"
     ]
    }
   ],
   "source": [
    "nombre= input( 'cual es tu nombre: ')\n",
    "print  (f\"tu nombre es: {nombre}.\")\n"
   ]
  },
  {
   "cell_type": "code",
   "execution_count": 30,
   "metadata": {},
   "outputs": [
    {
     "name": "stdout",
     "output_type": "stream",
     "text": [
      "tu apellido es: Gonzalez\n"
     ]
    }
   ],
   "source": [
    "apellido =input( 'cual es tu apellido: ')\n",
    "print (f\"tu apellido es: {apellido}\")"
   ]
  },
  {
   "cell_type": "code",
   "execution_count": 8,
   "metadata": {},
   "outputs": [
    {
     "name": "stdout",
     "output_type": "stream",
     "text": [
      "andrea gonzalez\n"
     ]
    }
   ],
   "source": [
    "nombre_completo= nombre+ ' ' +apellido\n",
    "print (nombre_completo)"
   ]
  },
  {
   "cell_type": "code",
   "execution_count": 9,
   "metadata": {},
   "outputs": [
    {
     "name": "stdout",
     "output_type": "stream",
     "text": [
      "ANDREA GONZALEZ\n"
     ]
    }
   ],
   "source": [
    "mayuscula= nombre_completo.upper()\n",
    "print (mayuscula)"
   ]
  },
  {
   "cell_type": "code",
   "execution_count": 10,
   "metadata": {},
   "outputs": [
    {
     "name": "stdout",
     "output_type": "stream",
     "text": [
      "andrea gonzalez\n"
     ]
    }
   ],
   "source": [
    "minuscula= nombre_completo.lower()\n",
    "print(minuscula)"
   ]
  },
  {
   "cell_type": "code",
   "execution_count": 11,
   "metadata": {},
   "outputs": [
    {
     "name": "stdout",
     "output_type": "stream",
     "text": [
      "Andrea Gonzalez\n"
     ]
    }
   ],
   "source": [
    "Mayusculaprimero = nombre_completo. title() \n",
    "print (Mayusculaprimero)"
   ]
  },
  {
   "cell_type": "code",
   "execution_count": 12,
   "metadata": {},
   "outputs": [
    {
     "name": "stdout",
     "output_type": "stream",
     "text": [
      "Andrea gonzalez\n"
     ]
    }
   ],
   "source": [
    "mayusculasegundo = nombre_completo.capitalize()\n",
    "print (mayusculasegundo)"
   ]
  },
  {
   "cell_type": "code",
   "execution_count": 32,
   "metadata": {},
   "outputs": [
    {
     "name": "stdout",
     "output_type": "stream",
     "text": [
      "Frase favorita: Mañana sera bonito\n"
     ]
    }
   ],
   "source": [
    "frase =  input( 'escribe tu frase favorita: ')\n",
    "print (f'Frase favorita: {frase}')\n"
   ]
  },
  {
   "cell_type": "code",
   "execution_count": 34,
   "metadata": {},
   "outputs": [
    {
     "name": "stdout",
     "output_type": "stream",
     "text": [
      "vocal: A\n"
     ]
    }
   ],
   "source": [
    "vocal = input('escribe una vocal: ')\n",
    "print (f'vocal: {vocal}')"
   ]
  },
  {
   "cell_type": "code",
   "execution_count": 35,
   "metadata": {},
   "outputs": [
    {
     "data": {
      "text/plain": [
       "'A'"
      ]
     },
     "execution_count": 35,
     "metadata": {},
     "output_type": "execute_result"
    }
   ],
   "source": [
    "mayusculavocal= vocal.upper ()\n",
    "mayusculavocal"
   ]
  },
  {
   "cell_type": "code",
   "execution_count": 16,
   "metadata": {},
   "outputs": [
    {
     "name": "stdout",
     "output_type": "stream",
     "text": [
      "carne, arroz, leche\n"
     ]
    }
   ],
   "source": [
    "Lista_compras= input()\n",
    "print (Lista_compras)"
   ]
  },
  {
   "cell_type": "code",
   "execution_count": 17,
   "metadata": {},
   "outputs": [
    {
     "name": "stdout",
     "output_type": "stream",
     "text": [
      "['carne,', 'arroz,', 'leche']\n"
     ]
    }
   ],
   "source": [
    "Lista_separadas= Lista_compras.split()\n",
    "print (Lista_separadas)"
   ]
  },
  {
   "cell_type": "code",
   "execution_count": 18,
   "metadata": {},
   "outputs": [
    {
     "name": "stdout",
     "output_type": "stream",
     "text": [
      "carne, arroz, leche\n"
     ]
    }
   ],
   "source": [
    "listado2= ' '.join (Lista_separadas)\n",
    "print( listado2)"
   ]
  },
  {
   "cell_type": "code",
   "execution_count": 21,
   "metadata": {},
   "outputs": [
    {
     "data": {
      "text/plain": [
       "['carne, arroz, leche']"
      ]
     },
     "execution_count": 21,
     "metadata": {},
     "output_type": "execute_result"
    }
   ],
   "source": [
    "Listado = listado2.split('\\n')\n",
    "Listado"
   ]
  },
  {
   "cell_type": "code",
   "execution_count": 9,
   "metadata": {},
   "outputs": [
    {
     "name": "stdout",
     "output_type": "stream",
     "text": [
      "carne\n",
      "arroz\n",
      "leche\n"
     ]
    }
   ],
   "source": [
    "Lista_comida = [\"carne\", \"arroz\", \"leche\"]\n",
    "print(\"\\n\".join(Lista_comida))"
   ]
  }
 ],
 "metadata": {
  "kernelspec": {
   "display_name": "base",
   "language": "python",
   "name": "python3"
  },
  "language_info": {
   "codemirror_mode": {
    "name": "ipython",
    "version": 3
   },
   "file_extension": ".py",
   "mimetype": "text/x-python",
   "name": "python",
   "nbconvert_exporter": "python",
   "pygments_lexer": "ipython3",
   "version": "3.11.7"
  }
 },
 "nbformat": 4,
 "nbformat_minor": 2
}
