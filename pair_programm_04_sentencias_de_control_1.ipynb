{
 "cells": [
  {
   "cell_type": "markdown",
   "metadata": {},
   "source": [
    "## Sentencias Control\n"
   ]
  },
  {
   "cell_type": "markdown",
   "metadata": {},
   "source": [
    "\n",
    "7. Verificar si un año es bisiesto o no\n",
    "Descripción: Dado un año, verifica si es bisiesto o no (un año es bisiesto si es divisible entre 4, excepto aquellos divisibles entre 100 pero no entre 400)"
   ]
  },
  {
   "cell_type": "code",
   "execution_count": 11,
   "metadata": {},
   "outputs": [
    {
     "name": "stdout",
     "output_type": "stream",
     "text": [
      "El año no bisiesto.\n"
     ]
    }
   ],
   "source": [
    "año_usuario = int(input(' Escribe un año y comprueba si es bisciesto'))\n",
    "\n",
    "\n",
    "\n",
    "if año_usuario%4==0 or año_usuario % 100 == 0 or año_usuario% 400 == 0:\n",
    "             \n",
    "    print('El año es bisiesto')\n",
    "else:\n",
    "        print('El año no bisiesto.')\n",
    "\n",
    " \n",
    "\n",
    "    "
   ]
  },
  {
   "cell_type": "code",
   "execution_count": 8,
   "metadata": {},
   "outputs": [
    {
     "name": "stdout",
     "output_type": "stream",
     "text": [
      "El año no es bisiesto.\n"
     ]
    }
   ],
   "source": [
    "año = int(input('Introduce un año: '))\n",
    "\n",
    "if año % 4 == 0:\n",
    "    if año % 100 == 0:\n",
    "        if año % 400 == 0:\n",
    "            print('El año es bisiesto')\n",
    "        else:\n",
    "            print('El año no es bisiesto')\n",
    "    else:\n",
    "        print('El año es bisiesto.')\n",
    "else:\n",
    "    print('El año no es bisiesto.')\n"
   ]
  },
  {
   "cell_type": "markdown",
   "metadata": {},
   "source": [
    "Calcular la suma de los primeros 10 números naturales utilizando un bucle while\n",
    "Descripción: Utiliza un bucle while para calcular la suma de los primeros 10 números naturales (1 + 2 + 3 + ... + 10)."
   ]
  },
  {
   "cell_type": "code",
   "execution_count": 18,
   "metadata": {},
   "outputs": [
    {
     "name": "stdout",
     "output_type": "stream",
     "text": [
      "La suma de los primeros 10 números naturales es: 55\n"
     ]
    }
   ],
   "source": [
    "# Usamos un bucle while para sumar los primeros 10 números naturales\n",
    "\n",
    "# Inicializamos las variables\n",
    "suma = 0\n",
    "numero = 1\n",
    "\n",
    "while numero <= 10:\n",
    "    suma += numero\n",
    "    numero += 1\n",
    "\n",
    "# Imprimimos el resultado\n",
    "print(\"La suma de los primeros 10 números naturales es:\", suma)\n"
   ]
  },
  {
   "cell_type": "code",
   "execution_count": 22,
   "metadata": {},
   "outputs": [
    {
     "name": "stdout",
     "output_type": "stream",
     "text": [
      " sigue intentando\n"
     ]
    },
    {
     "ename": "TypeError",
     "evalue": "unsupported operand type(s) for -=: 'str' and 'str'",
     "output_type": "error",
     "traceback": [
      "\u001b[0;31m---------------------------------------------------------------------------\u001b[0m",
      "\u001b[0;31mTypeError\u001b[0m                                 Traceback (most recent call last)",
      "Cell \u001b[0;32mIn[22], line 7\u001b[0m\n\u001b[1;32m      5\u001b[0m \u001b[38;5;28;01mwhile\u001b[39;00m numero_secreto \u001b[38;5;241m!=\u001b[39m numero_usuario: \n\u001b[1;32m      6\u001b[0m  \u001b[38;5;28mprint\u001b[39m (\u001b[38;5;124m'\u001b[39m\u001b[38;5;124m sigue intentando\u001b[39m\u001b[38;5;124m'\u001b[39m)\n\u001b[0;32m----> 7\u001b[0m  numero_usuario\u001b[38;5;241m-\u001b[39m\u001b[38;5;241m=\u001b[39mnumero_usuario\n",
      "\u001b[0;31mTypeError\u001b[0m: unsupported operand type(s) for -=: 'str' and 'str'"
     ]
    }
   ],
   "source": [
    "numero_secreto = 7\n",
    "\n",
    "numero_usuario = input()\n",
    "\n",
    "while numero_secreto != numero_usuario: \n",
    " print (' sigue intentando')\n",
    " numero_usuario-=numero_usuario\n",
    "\n"
   ]
  }
 ],
 "metadata": {
  "kernelspec": {
   "display_name": "base",
   "language": "python",
   "name": "python3"
  },
  "language_info": {
   "codemirror_mode": {
    "name": "ipython",
    "version": 3
   },
   "file_extension": ".py",
   "mimetype": "text/x-python",
   "name": "python",
   "nbconvert_exporter": "python",
   "pygments_lexer": "ipython3",
   "version": "3.12.4"
  }
 },
 "nbformat": 4,
 "nbformat_minor": 2
}
