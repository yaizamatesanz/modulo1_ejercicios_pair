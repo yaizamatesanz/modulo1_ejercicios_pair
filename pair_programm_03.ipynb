{
 "cells": [
  {
   "cell_type": "markdown",
   "metadata": {},
   "source": [
    "Ejercicios diccionarios"
   ]
  },
  {
   "cell_type": "markdown",
   "metadata": {},
   "source": [
    "\n",
    "1. Crear un diccionario vacío\n",
    "\n",
    "Descripción: Crea un diccionario vacío sin ningún par clave-valor."
   ]
  },
  {
   "cell_type": "code",
   "execution_count": 3,
   "metadata": {},
   "outputs": [
    {
     "name": "stdout",
     "output_type": "stream",
     "text": [
      "{}\n"
     ]
    }
   ],
   "source": [
    "diccionario = {}\n",
    "print(diccionario)"
   ]
  },
  {
   "cell_type": "markdown",
   "metadata": {},
   "source": [
    "\n",
    "2. Crear un diccionario con elementos\n",
    "\n",
    "Descripción: Crea un diccionario con pares clave-valor predefinidos. Definir el diccionario con las claves y valores que querais. NOTA El diccionario debe tener al menos 5 pares de clave:valor."
   ]
  },
  {
   "cell_type": "code",
   "execution_count": 4,
   "metadata": {},
   "outputs": [
    {
     "name": "stdout",
     "output_type": "stream",
     "text": [
      "{'lunes': '1', 'martes': '2', 'miércoles': '3', 'jueves': '4', 'viernes': '5'}\n"
     ]
    }
   ],
   "source": [
    "diccionario_2 = {\"lunes\" : \"1\", \"martes\" : \"2\", \"miércoles\" : \"3\", \"jueves\" : \"4\", \"viernes\" : \"5\"}\n",
    "print(diccionario_2)"
   ]
  },
  {
   "cell_type": "markdown",
   "metadata": {},
   "source": [
    "\n",
    "3. Acceder al valor de una clave en un diccionario\n",
    "\n",
    "Descripción: Usando el diccionario creado en el paso anterior, obtén el valor correspondiente a una clave específica que indique el usuario (debereis usar la función input() para preguntar al usuario)."
   ]
  },
  {
   "cell_type": "code",
   "execution_count": 5,
   "metadata": {},
   "outputs": [
    {
     "name": "stdout",
     "output_type": "stream",
     "text": [
      "El día seleccionado por el usuario es: lunes\n"
     ]
    }
   ],
   "source": [
    "dia_usuario = input(\"Menciona un día de la semana\")\n",
    "print(\"El día seleccionado por el usuario es:\" , dia_usuario)"
   ]
  },
  {
   "cell_type": "code",
   "execution_count": 6,
   "metadata": {},
   "outputs": [
    {
     "name": "stdout",
     "output_type": "stream",
     "text": [
      "1\n"
     ]
    }
   ],
   "source": [
    "clave_usuario = diccionario_2.get(dia_usuario)\n",
    "print(clave_usuario)"
   ]
  },
  {
   "cell_type": "markdown",
   "metadata": {},
   "source": [
    "\n",
    "4. Agregar un nuevo par clave-valor a un diccionario\n",
    "\n",
    "Descripción: Usando el diccionario creado en el ejercicio 2, agrega un nuevo par clave-valor."
   ]
  },
  {
   "cell_type": "code",
   "execution_count": 7,
   "metadata": {},
   "outputs": [
    {
     "name": "stdout",
     "output_type": "stream",
     "text": [
      "El nuevo diccionario es: {'lunes': '1', 'martes': '2', 'miércoles': '3', 'jueves': '4', 'viernes': '5', 'sabado': '6'}\n"
     ]
    }
   ],
   "source": [
    "dia_sabado = {\"sabado\" : \"6\"}\n",
    "diccionario_2.update(dia_sabado)\n",
    "print(\"El nuevo diccionario es:\" , diccionario_2)"
   ]
  },
  {
   "cell_type": "markdown",
   "metadata": {},
   "source": [
    "5. \n",
    "Actualizar el valor de una clave en un diccionario\n",
    "\n",
    "Descripción: Usando el diccionario creado en el ejercicio 2, actualiza el valor correspondiente a una clave existente. Ejemplo:\n",
    "\n",
    "Copy\n",
    "# dado el siguiente diccionario\n",
    "{'nombre': 'Ana', 'edad': 25, 'ciudad': 'Madrid', 'hijos': 1}\n",
    "\n",
    "# el ouptut esperado es: (ha cambiado el valor de la clave edad)\n",
    "{'nombre': 'Ana', 'edad': 40, 'ciudad': 'Madrid', 'hijos': 1} "
   ]
  },
  {
   "cell_type": "code",
   "execution_count": 10,
   "metadata": {},
   "outputs": [
    {
     "name": "stdout",
     "output_type": "stream",
     "text": [
      "El nuevo valor que arroja el martes es: 7\n"
     ]
    }
   ],
   "source": [
    "diccionario_2 [\"martes\"] = \"7\"\n",
    "print(\"El nuevo valor que arroja el martes es:\" , diccionario_2 [\"martes\"])"
   ]
  },
  {
   "cell_type": "markdown",
   "metadata": {},
   "source": [
    "\n",
    "6. Eliminar un par clave-valor de un diccionario\n",
    "\n",
    "Descripción: Usando el diccionario creado en el ejercicio 2, elimina un par clave-valor específico que indique el usuario (debereis usar la función input() para preguntar al usuario)."
   ]
  },
  {
   "cell_type": "code",
   "execution_count": 15,
   "metadata": {},
   "outputs": [
    {
     "name": "stdout",
     "output_type": "stream",
     "text": [
      "El día eliminado por el usuario es: miércoles\n"
     ]
    }
   ],
   "source": [
    "dia_eliminado = input(\"Elimina un día de la semana\")\n",
    "print(\"El día eliminado por el usuario es:\" , dia_eliminado)"
   ]
  },
  {
   "cell_type": "code",
   "execution_count": 16,
   "metadata": {},
   "outputs": [
    {
     "ename": "KeyError",
     "evalue": "'miércoles'",
     "output_type": "error",
     "traceback": [
      "\u001b[0;31m---------------------------------------------------------------------------\u001b[0m",
      "\u001b[0;31mKeyError\u001b[0m                                  Traceback (most recent call last)",
      "Cell \u001b[0;32mIn[16], line 1\u001b[0m\n\u001b[0;32m----> 1\u001b[0m diccionario_nuevo \u001b[38;5;241m=\u001b[39m diccionario_2\u001b[38;5;241m.\u001b[39mpop(\u001b[38;5;124m\"\u001b[39m\u001b[38;5;124mmiércoles\u001b[39m\u001b[38;5;124m\"\u001b[39m)\n\u001b[1;32m      2\u001b[0m \u001b[38;5;28mprint\u001b[39m(diccionario_nuevo)\n",
      "\u001b[0;31mKeyError\u001b[0m: 'miércoles'"
     ]
    }
   ],
   "source": [
    "diccionario_nuevo = diccionario_2.pop(\"miércoles\")\n",
    "print(diccionario_nuevo)"
   ]
  },
  {
   "cell_type": "code",
   "execution_count": 17,
   "metadata": {},
   "outputs": [
    {
     "name": "stdout",
     "output_type": "stream",
     "text": [
      "El nuevo diccionario es: {'lunes': '1', 'martes': '7', 'jueves': '4', 'viernes': '5', 'sabado': '6'}\n"
     ]
    }
   ],
   "source": [
    "print(\"El nuevo diccionario es:\" , diccionario_2)"
   ]
  },
  {
   "cell_type": "markdown",
   "metadata": {},
   "source": [
    "\n",
    "7. Verificar si una clave está presente en un diccionario\n",
    "\n",
    "Descripción: Usando el diccionario creado en el ejercicio 2, verifica si una clave específica está presente en él. La clave a buscar debe ser pasada por el usuario, debereis usar un input()."
   ]
  },
  {
   "cell_type": "code",
   "execution_count": 18,
   "metadata": {},
   "outputs": [
    {
     "name": "stdout",
     "output_type": "stream",
     "text": [
      "El día seleccionado es: lunes\n"
     ]
    }
   ],
   "source": [
    "clave_verificar = input(\"Selecciona un día de la semana para verificar\")\n",
    "print(\"El día seleccionado es:\" , clave_verificar)"
   ]
  },
  {
   "cell_type": "code",
   "execution_count": 19,
   "metadata": {},
   "outputs": [
    {
     "name": "stdout",
     "output_type": "stream",
     "text": [
      "¿Está el lunes en nuestro diccionario? True\n"
     ]
    }
   ],
   "source": [
    "print(\"¿Está el lunes en nuestro diccionario?\", clave_verificar in diccionario_2)"
   ]
  },
  {
   "cell_type": "markdown",
   "metadata": {},
   "source": [
    "8. Obtener una lista de todas las claves de un diccionario\n",
    "\n",
    "Descripción: Usando el diccionario creado en el ejercicio 2, obtén una lista con todas las claves que contiene."
   ]
  },
  {
   "cell_type": "code",
   "execution_count": 21,
   "metadata": {},
   "outputs": [
    {
     "name": "stdout",
     "output_type": "stream",
     "text": [
      "['lunes', 'martes', 'jueves', 'viernes', 'sabado']\n"
     ]
    }
   ],
   "source": [
    "lista_claves = list(diccionario_2.keys())\n",
    "print(lista_claves)"
   ]
  },
  {
   "cell_type": "markdown",
   "metadata": {},
   "source": [
    "\n",
    "9. Obtener una lista de todos los valores de un diccionario\n",
    "\n",
    "Descripción: Usando el diccionario creado en el ejercicio 2, obtén una lista con todos los valores que contiene."
   ]
  },
  {
   "cell_type": "code",
   "execution_count": 22,
   "metadata": {},
   "outputs": [
    {
     "name": "stdout",
     "output_type": "stream",
     "text": [
      "['1', '7', '4', '5', '6']\n"
     ]
    }
   ],
   "source": [
    "lista_values = list(diccionario_2.values())\n",
    "print(lista_values)"
   ]
  },
  {
   "cell_type": "markdown",
   "metadata": {},
   "source": [
    "10. Utilizar el método setdefault() para establecer un valor predeterminado si la clave no existe\n",
    "\n",
    "Descripción: Usando el diccionario creado en el ejercicio 2, obten el valor correspondiente a una clave. Si la clave no existe, establece un valor predeterminado y devuelve dicho valor."
   ]
  },
  {
   "cell_type": "code",
   "execution_count": 23,
   "metadata": {},
   "outputs": [
    {
     "name": "stdout",
     "output_type": "stream",
     "text": [
      "{'lunes': '1', 'martes': '7', 'jueves': '4', 'viernes': '5', 'sabado': '6', 'domingo': '8'}\n"
     ]
    }
   ],
   "source": [
    "diccionario_2.setdefault(\"domingo\", \"8\")\n",
    "print(diccionario_2)\n"
   ]
  },
  {
   "cell_type": "markdown",
   "metadata": {},
   "source": [
    "11. \n",
    "Manipulación de un diccionario utilizando pop() y popitem()\n",
    "\n",
    "Descripción: Usando el diccionario creado en el ejercicio 2, realiza operaciones de eliminación utilizando pop() y popitem(), y observa cómo afectan al diccionario."
   ]
  },
  {
   "cell_type": "code",
   "execution_count": 24,
   "metadata": {},
   "outputs": [
    {
     "name": "stdout",
     "output_type": "stream",
     "text": [
      "Eliminación con método .pop {'lunes': '1', 'jueves': '4', 'viernes': '5', 'sabado': '6', 'domingo': '8'}\n"
     ]
    }
   ],
   "source": [
    "#Eliminación con método .pop \n",
    "diccionario_2.pop(\"martes\")\n",
    "print(\"Eliminación con método .pop\" , diccionario_2)"
   ]
  },
  {
   "cell_type": "code",
   "execution_count": 25,
   "metadata": {},
   "outputs": [
    {
     "name": "stdout",
     "output_type": "stream",
     "text": [
      "Eliminación con método .popitem {'lunes': '1', 'jueves': '4', 'viernes': '5', 'sabado': '6'}\n"
     ]
    }
   ],
   "source": [
    "diccionario_2.popitem()\n",
    "print(\"Eliminación con método .popitem\" , diccionario_2)"
   ]
  },
  {
   "cell_type": "markdown",
   "metadata": {},
   "source": [
    "Ejercicios sets"
   ]
  },
  {
   "cell_type": "markdown",
   "metadata": {},
   "source": [
    "\n",
    "1. Crear un conjunto vacío\n",
    "\n",
    "Descripción: Crea un conjunto vacío sin ningún elemento."
   ]
  },
  {
   "cell_type": "code",
   "execution_count": 30,
   "metadata": {},
   "outputs": [
    {
     "data": {
      "text/plain": [
       "dict"
      ]
     },
     "execution_count": 30,
     "metadata": {},
     "output_type": "execute_result"
    }
   ],
   "source": [
    "#Revisar\n",
    "conjunto_1 = {}\n",
    "type(conjunto_1)"
   ]
  },
  {
   "cell_type": "markdown",
   "metadata": {},
   "source": [
    "\n",
    "2. Crear un conjunto con elementos\n",
    "\n",
    "Descripción: Crea un conjunto con elementos predefinidos."
   ]
  },
  {
   "cell_type": "code",
   "execution_count": 31,
   "metadata": {},
   "outputs": [
    {
     "name": "stdout",
     "output_type": "stream",
     "text": [
      "{'Soja', 'Trigo', 'Cacahuetes', 'Pescado', 'Leche', 'Crustáceos', 'Huevos', 'Frutos secos'}\n"
     ]
    }
   ],
   "source": [
    "conjunto_2 = {'Soja', 'Trigo', 'Cacahuetes', 'Leche', 'Huevos','Frutos secos', 'Pescado', 'Crustáceos', \"Huevos\"}\n",
    "print(conjunto_2)"
   ]
  },
  {
   "cell_type": "markdown",
   "metadata": {},
   "source": [
    "3. Agregar elementos a un conjunto\n",
    "\n",
    "Descripción: Usando el set creado en el ejercicio 2, agrega nuevos elementos. Debereis agregar por separado:\n",
    "\n",
    "Un elemento solo\n",
    "\n",
    "Un par de elementos a la vez."
   ]
  },
  {
   "cell_type": "code",
   "execution_count": 33,
   "metadata": {},
   "outputs": [
    {
     "name": "stdout",
     "output_type": "stream",
     "text": [
      "Conjunto mango {'Soja', 'Trigo', 'Cacahuetes', 'Pescado', 'Leche', 'Mango', 'Crustáceos', 'Huevos', 'Frutos secos'}\n"
     ]
    }
   ],
   "source": [
    "conjunto_2.add('Mango')\n",
    "print(\"Conjunto mango\" , conjunto_2)"
   ]
  },
  {
   "cell_type": "code",
   "execution_count": 34,
   "metadata": {},
   "outputs": [
    {
     "name": "stdout",
     "output_type": "stream",
     "text": [
      "Se añaden dos elementos {'Soja', 'Trigo', 'Cacahuetes', 'Arroz', 'Pescado', 'Leche', 'Mango', 'Crustáceos', 'Carne', 'Huevos', 'Frutos secos'}\n"
     ]
    }
   ],
   "source": [
    "actualizacion = ['Arroz', 'Carne']\n",
    "conjunto_2.update(actualizacion)\n",
    "print(\"Se añaden dos elementos\" , conjunto_2)"
   ]
  },
  {
   "cell_type": "markdown",
   "metadata": {},
   "source": [
    "4. Eliminar un elemento de un conjunto\n",
    "\n",
    "Descripción: Usando el set creado en el ejercicio 2, elimina un elemento especificado por el usuario."
   ]
  },
  {
   "cell_type": "code",
   "execution_count": 35,
   "metadata": {},
   "outputs": [
    {
     "name": "stdout",
     "output_type": "stream",
     "text": [
      "Vamos a eliminar de la lista el mango {'Soja', 'Trigo', 'Cacahuetes', 'Arroz', 'Pescado', 'Leche', 'Crustáceos', 'Carne', 'Huevos', 'Frutos secos'}\n"
     ]
    }
   ],
   "source": [
    "conjunto_2.remove('Mango')\n",
    "print('Vamos a eliminar de la lista el mango', conjunto_2)"
   ]
  },
  {
   "cell_type": "markdown",
   "metadata": {},
   "source": [
    "5. Verificar la pertenencia de un elemento en un conjunto\n",
    "\n",
    "Descripción: Usando el set creado en el ejercicio 2, verifica si un elemento específico está presente en él."
   ]
  },
  {
   "cell_type": "code",
   "execution_count": 36,
   "metadata": {},
   "outputs": [
    {
     "name": "stdout",
     "output_type": "stream",
     "text": [
      "¿Tenemos arroz en el set? True\n"
     ]
    }
   ],
   "source": [
    "print(\"¿Tenemos arroz en el set?\", \"Arroz\" in conjunto_2)"
   ]
  },
  {
   "cell_type": "markdown",
   "metadata": {},
   "source": [
    "6. Realizar una unión de conjuntos\n",
    "\n",
    "Descripción: Dados dos conjuntos, realiza una unión de ellos."
   ]
  },
  {
   "cell_type": "code",
   "execution_count": 37,
   "metadata": {},
   "outputs": [
    {
     "name": "stdout",
     "output_type": "stream",
     "text": [
      "{'Soja', 'Trigo', 'Cacahuetes', 'Arroz', 'Pescado', 'Leche', 'Crustáceos', 'Carne', 'Huevos', 'Frutos secos'}\n"
     ]
    }
   ],
   "source": [
    "print(conjunto_2)"
   ]
  },
  {
   "cell_type": "code",
   "execution_count": 38,
   "metadata": {},
   "outputs": [
    {
     "name": "stdout",
     "output_type": "stream",
     "text": [
      "El nuevo conjunto de elementos es: {'Melón', 'Sandía', 'Soja', 'Trigo', 'Cacahuetes', 'Arroz', 'Pescado', 'Aguacate', 'Leche', 'Crustáceos', 'Carne', 'Huevos', 'Frutos secos', 'Fresas'}\n"
     ]
    }
   ],
   "source": [
    "conjunto_3 = {'Sandía', 'Melón', 'Aguacate', 'Fresas'}\n",
    "conjunto_union = conjunto_2.union(conjunto_3)\n",
    "print(\"El nuevo conjunto de elementos es:\", conjunto_union)"
   ]
  },
  {
   "cell_type": "markdown",
   "metadata": {},
   "source": [
    "7. Realizar una intersección de conjuntos\n",
    "\n",
    "Descripción: Usando dos conjuntos de datos definidos en el ejercicio anterior, realiza una intersección de ellos."
   ]
  },
  {
   "cell_type": "code",
   "execution_count": 41,
   "metadata": {},
   "outputs": [
    {
     "name": "stdout",
     "output_type": "stream",
     "text": [
      "La nueva intersección de elementos es: set()\n"
     ]
    }
   ],
   "source": [
    "conjunto_interseccion = conjunto_2.intersection(conjunto_3)\n",
    "print(\"La nueva intersección de elementos es:\", conjunto_interseccion)"
   ]
  },
  {
   "cell_type": "markdown",
   "metadata": {},
   "source": [
    "8. Realizar una diferencia de conjuntos\n",
    "\n",
    "Descripción: Usando dos conjuntos de datos definidos en el ejercicio anterior, realiza una diferencia entre ellos."
   ]
  },
  {
   "cell_type": "code",
   "execution_count": 42,
   "metadata": {},
   "outputs": [
    {
     "name": "stdout",
     "output_type": "stream",
     "text": [
      "La diferencia de elementos es: {'Cacahuetes', 'Trigo', 'Soja', 'Arroz', 'Pescado', 'Leche', 'Crustáceos', 'Carne', 'Huevos', 'Frutos secos'}\n"
     ]
    }
   ],
   "source": [
    "conjunto_difference = conjunto_2.difference(conjunto_3)\n",
    "print(\"La diferencia de elementos es:\" , conjunto_difference)"
   ]
  },
  {
   "cell_type": "markdown",
   "metadata": {},
   "source": [
    "9. Verificar si un conjunto es subconjunto de otro\n",
    "\n",
    "Descripción: Dados dos conjuntos, verifica si uno es subconjunto del otro."
   ]
  },
  {
   "cell_type": "code",
   "execution_count": 43,
   "metadata": {},
   "outputs": [
    {
     "name": "stdout",
     "output_type": "stream",
     "text": [
      "Verificación si conjunto_2 es subconjunto de conjunto_3: False\n"
     ]
    }
   ],
   "source": [
    "conjunto_subconjunto = conjunto_2.issubset(conjunto_3)\n",
    "print(\"Verificación si conjunto_2 es subconjunto de conjunto_3:\" , conjunto_subconjunto)"
   ]
  }
 ],
 "metadata": {
  "kernelspec": {
   "display_name": "base",
   "language": "python",
   "name": "python3"
  },
  "language_info": {
   "codemirror_mode": {
    "name": "ipython",
    "version": 3
   },
   "file_extension": ".py",
   "mimetype": "text/x-python",
   "name": "python",
   "nbconvert_exporter": "python",
   "pygments_lexer": "ipython3",
   "version": "3.11.7"
  }
 },
 "nbformat": 4,
 "nbformat_minor": 2
}
