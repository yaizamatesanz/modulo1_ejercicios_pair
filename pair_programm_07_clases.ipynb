{
 "cells": [
  {
   "cell_type": "markdown",
   "metadata": {},
   "source": [
    "EJERCICIO 1\n",
    "En este ejercicio de pair programming, vamos a crear una clase para gestionar la información de los empleados de nuestra empresa. Siguiendo las indicaciones del jefe, necesitamos organizar los datos de cada empleado de manera más estructurada."
   ]
  },
  {
   "cell_type": "markdown",
   "metadata": {},
   "source": [
    "La clase Empleados permite gestionar información relacionada con los empleados de una empresa, con las siguientes características:\n",
    "\n",
    "Debes crear una clase llamada \"Empleados\" que tenga los siguientes atributos: nombre, apellidos, edad, posicion, año , vacaciones(cantidad de días de vacaciones que le quedan al empleado) y herramientas.\n",
    "\n",
    "El constructor __init__ debe recibir estos atributos como parámetros y asignarlos a los respectivos atributos de la clase.\n",
    "\n",
    "Los atributos representan la información personal y profesional de un empleado, como su nombre completo, edad, posición en la empresa, año de ingreso, días de vacaciones disponibles y una lista de herramientas que el empleado sabe utilizar."
   ]
  },
  {
   "cell_type": "markdown",
   "metadata": {},
   "source": [
    "Los métodos que debe recibir esta clase son:\n",
    "\n",
    "1.1 Método \n",
    "descripcion\n",
    ": Proporciona una descripción del empleado, incluyendo su nombre, posición en la empresa, y la cantidad de días de vacaciones que le quedan para el año actual. Los pasos para resolver el ejercicio del método descripcion son:\n",
    "\n",
    "Utilizar F-Strings: Utiliza f-strings para construir la descripción del empleado de manera legible y eficiente.\n",
    "\n",
    "Especificar los Atributos a Incluir: Determina cuáles de los atributos del empleado se deben incluir en la descripción. Los atributos necesarios son nombre, posicion, año, y vacaciones.\n",
    "\n",
    "Concatenar los Atributos: Usar f-strings para concatenar los atributos seleccionados y crear una descripción coherente."
   ]
  },
  {
   "cell_type": "markdown",
   "metadata": {},
   "source": [
    "1.2 Método \n",
    "cambiando_posicion\n",
    ": Verifica las herramientas que el empleado tiene en su lista y devuelve un mensaje específico basado en las herramientas. Puede elogiar al empleado si tiene \"Python\" en su lista o sugerirle que deje de usar \"Excel\" y aprenda Python. Los pasos para resolver este ejercicio son:\n",
    "\n",
    "Iterar a través de las Herramientas: La función debe recorrer la lista de herramientas (self.herramientas) del empleado.\n",
    "\n",
    "Evaluar Cada Herramienta: Para cada herramienta en la lista, verifica si es igual a \"Python\" o \"Excel\" (en minúsculas)."
   ]
  },
  {
   "cell_type": "markdown",
   "metadata": {},
   "source": [
    "1.3 Método \n",
    "calcular_antiguedad\n",
    ": Calcula la antigüedad del empleado en años y meses desde el año de ingreso hasta la fecha actual.\n",
    "\n",
    "Calcular la Antigüedad en Años y Meses: Utiliza el módulo datetime de Python para obtener el año actual y el mes actual.\n",
    "\n",
    "Generar el Mensaje de Antigüedad: Usa los valores calculados para años y meses de antigüedad para generar un mensaje descriptivo. Por ejemplo, \"Juan lleva 5 años y 3 meses en la empresa\"."
   ]
  },
  {
   "cell_type": "markdown",
   "metadata": {},
   "source": [
    "1.4 Método \n",
    "solicitar_aumento_vacaciones\n",
    ": Permite al empleado solicitar un aumento en la cantidad de días de vacaciones. Si la solicitud es válida (es decir, se solicitan días positivos), actualiza los días de vacaciones del empleado y devuelve un mensaje de confirmación. Recibirá un parámetro dias_solicitados, que corresponderá con el número de días de vacaciones que quiere solicitar.\n",
    "\n",
    "Validar los Días Solicitados: Utiliza una estructura de control para verificar si la cantidad de días solicitados (dias_solicitados) es mayor que cero. Esto garantiza que solo se procesen solicitudes de aumento válidas.\n",
    "\n",
    "Actualizar los Días de Vacaciones: Si la solicitud es válida, aumenta la cantidad de días de vacaciones del empleado (self.vacaciones) sumando la cantidad de días solicitados.\n",
    "\n",
    "Generar un Mensaje de Confirmación: Crea un mensaje informativo que confirme la aprobación de la solicitud y muestre la cantidad actualizada de días de vacaciones del empleado.\n",
    "\n",
    "Manejar Solicitudes No Válidas: Si la solicitud no es válida (es decir, dias_solicitados es menor o igual a cero), generar un mensaje de error que indique que la solicitud debe ser un número positivo."
   ]
  },
  {
   "cell_type": "markdown",
   "metadata": {},
   "source": [
    "1.5 Método \n",
    "registrar_herramienta\n",
    ": Permite al empleado registrar una nueva herramienta en su lista de habilidades. La herramienta se registra si no está registrada previamente en la lista de herramientas del empleado. Recibirá un parámetro que será la nueva herramienta.\n",
    "\n",
    "Validar la Nueva Herramienta: Utiliza una estructura de control para verificar si la nueva herramienta no está en la lista de herramientas existentes.\n",
    "\n",
    "Agregar la Nueva Herramienta: Si la nueva herramienta no está en la lista existente, agregarla a la lista.\n",
    "\n",
    "Generar un Mensaje de Confirmación: Crea un mensaje informativo que confirme el registro exitoso de la nueva herramienta y muestre el nombre de la herramienta registrada.\n",
    "\n",
    "Manejar Herramientas Duplicadas: Si la nueva herramienta ya existe en la lista, genera un mensaje que indique que la herramienta ya ha sido registrada previamente."
   ]
  },
  {
   "cell_type": "markdown",
   "metadata": {},
   "source": [
    "1.6 Método \n",
    "cambiar_posicion\n",
    ": Permite al empleado cambiar su posición y salario en la empresa. Actualiza la posición y el salario y devuelve un mensaje de felicitación. Recibirá dos parámetros, la nueva posición y el nuevo salario.\n",
    "\n",
    "Actualizar la Posición y el Salario: Utiliza los parámetros nueva_posicion y nuevo_salario para actualizar la posición y el salario del empleado.\n",
    "\n",
    "Generar un Mensaje de Confirmación: Crea un mensaje informativo que confirme el cambio de posición y salario del empleado y muestre el nombre del empleado, la nueva posición y el nuevo salario."
   ]
  },
  {
   "cell_type": "markdown",
   "metadata": {},
   "source": [
    "1.7 Método \n",
    "tomar_vacaciones\n",
    ": Permite al empleado tomar días de vacaciones, solicitando la cantidad deseada y actualizando los días de vacaciones restantes. Verifica que se solicite al menos un día de vacaciones y que el empleado tenga suficientes días disponibles. No recibe ningún parámetro adicional.\n",
    "\n",
    "Solicitar la Cantidad de Días de Vacaciones: Usar la función input para solicitar al usuario la cantidad de días de vacaciones que desea tomar.\n",
    "\n",
    "Validar la Cantidad de Días: Comprueba que la cantidad de días solicitados sea mayor que cero. Si el usuario ingresa un valor no válido (cero o negativo), muestra un mensaje de error y solicita nuevamente la cantidad de días hasta que sea válida.\n",
    "\n",
    "Verificar Disponibilidad de Días de Vacaciones: Comprueba si la cantidad de días solicitados es menor o igual a la cantidad de días de vacaciones disponibles para el empleado.\n",
    "\n",
    "Actualizar Días de Vacaciones: Si hay suficientes días de vacaciones disponibles, modifica el código para que se modifiquen los días de vacaciones que le quedan. Si no hay suficientes días disponibles, mostrar un mensaje de error.\n",
    "\n",
    "Generar un Mensaje de Confirmación o Error: Dependiendo de si la solicitud se procesó con éxito o no, genera un mensaje que informe al empleado sobre el resultado de su solicitud."
   ]
  },
  {
   "cell_type": "markdown",
   "metadata": {},
   "source": [
    "1.8 Método \n",
    "solicitar_aumento_salario\n",
    ": Permite al empleado solicitar un aumento de salario en porcentaje y calcula el nuevo salario. Verifica que el aumento sea un valor positivo o igual a cero. Este método no recibe ningún parámetro.\n",
    "\n",
    "Solicitar el Porcentaje de Aumento de Salario: Utiliza la función input para solicitar al usuario el porcentaje de aumento de salario que desea. Asegurate de que el valor ingresado sea un número decimal.\n",
    "\n",
    "Validar el Porcentaje de Aumento: Utiliza un bucle while para garantizar que el porcentaje de aumento sea mayor o igual a cero. Si el usuario ingresa un valor no válido (negativo), muestra un mensaje de error y solicita nuevamente el porcentaje hasta que sea válido.\n",
    "\n",
    "Calcular el Nuevo Salario: Calcula el nuevo salario.\n",
    "\n",
    "Generar un Mensaje de Confirmación: Crea un mensaje que informe al empleado sobre el resultado de su solicitud. Incluye el nuevo salario calculado en el mensaje.\n",
    "\n",
    "Manejar Errores de Entrada: Utiliza un bloque try...except para manejar posibles errores de entrada, como cuando el usuario ingresa un valor que no se puede convertir a un número decimal."
   ]
  },
  {
   "cell_type": "markdown",
   "metadata": {},
   "source": [
    "1.9 Método \n",
    "realizar_evaluacion\n",
    ": Permite al empleado recibir una calificación de desempeño, con opciones como \"Excelente\", \"Bueno\", \"Regular\" o \"Malo\". Verifica que la calificación ingresada sea válida. Este método no recibe ningún parámetro.\n",
    "\n",
    "Solicitar la Calificación del Desempeño: Utiliza la función input para solicitar al usuario que califique su propio desempeño. Asegurate de que el valor ingresado sea una de las opciones válidas: \"excelente\", \"bueno\", \"regular\" o \"malo\".\n",
    "\n",
    "Validar la Calificación: Utiliza un bucle while para garantizar que la calificación ingresada sea una de las opciones válidas. Si el usuario ingresa una calificación no válida, muestra un mensaje de error y solicita nuevamente la calificación hasta que sea válida.\n",
    "\n",
    "Generar un Mensaje de Retroalimentación: Crear un mensaje que proporcione retroalimentación al empleado basada en la calificación ingresada.\n",
    "\n",
    "Retornar el Mensaje Generado: La función debe incluir una instrucción return que devuelva el mensaje generado."
   ]
  },
  {
   "cell_type": "code",
   "execution_count": 31,
   "metadata": {},
   "outputs": [],
   "source": [
    "from datetime import datetime # dentro del codigo cauno trabajemos cuando muchos datos DEBE = ARRIBA\n",
    "\n",
    "class Empleados:\n",
    "    def __init__(self, nombre, apellidos, edad, posicion, anio, vacaciones, herramientas):\n",
    "\n",
    "        self.nombre = nombre\n",
    "        self.apellidos = apellidos\n",
    "        self.edad = edad\n",
    "        self.posicion = posicion\n",
    "        self.anio = anio\n",
    "        self.vacaciones = vacaciones\n",
    "        self.herramientas = herramientas\n",
    "    \n",
    "    def descripcion(self):\n",
    "        return f\"El empleado {self.nombre}, con posicion {self.posicion}, contratado en el año {self.anio} le quedan {self.vacaciones} dias de vacaciones.\"\n",
    "    \n",
    "    def cambiando_posicion(self):\n",
    "        for herramienta in self.herramientas:\n",
    "            if self.herramientas == \"python\": \n",
    "                return \"Genial, sigue aprendiendo!\"\n",
    "            elif self.herramientas == \"excel\":\n",
    "                return \"Deja de usar excel y ponte con python!\"\n",
    "            else:\n",
    "                return 'Te invitamos a seguir formandote'\n",
    "    \n",
    "    def calcular_antiguedad(self):\n",
    "        fecha_actual = datetime.now().year # anio actual\n",
    "        years = fecha_actual - self.anio # antiguedad anios\n",
    "\n",
    "        #fecha_actual_mes = datetime.now().month # mes actual\n",
    "        #months = fecha_actual_mes - self.anio # antiguedad meses\n",
    "\n",
    "        return f\"{self.nombre} lleva {years}  años en la empresa.\"\n",
    "    \n",
    "    def solicitar_aumento_vacaciones(self, dias_solicitados):\n",
    "        self.dias_solicitados = dias_solicitados\n",
    "\n",
    "        if self.dias_solicitados > 0:\n",
    "            self.vacaciones += self.dias_solicitados\n",
    "            return f\"Tus vacaciones han sido actualizadas a {self.vacaciones}.\"\n",
    "        \n",
    "        else:\n",
    "            \"Tu solicitud no es valida ya que no has introducido numeros positivos.\"\n",
    "    \n",
    "    def registrar_herramienta(self, nueva_herramienta):\n",
    "        self.nueva_herramientas = nueva_herramienta\n",
    "        if self.nueva_herramientas not in self.herramientas:\n",
    "            self.herramientas = self.herramientas + ',' + \"\".join(self.nueva_herramientas)\n",
    "            return f\"El registro de su nueva herramienta {self.herramientas} se ha realizado con exito.\"\n",
    "        \n",
    "        else:\n",
    "            return f\"La herramienta {self.nueva_herramienta} seleccionada ha sido registrada previamente.\"\n",
    "    \n",
    "    def cambiar_posicion(self, nuevo_salario, nueva_posicion):\n",
    "        self.salario = nuevo_salario # estas variables no existian previamente, por lo que hemos necesitado crear sus variables antes de establecer las condiciones\n",
    "        self.nueva_posicion = nueva_posicion\n",
    "        if self.nueva_posicion != self.posicion:\n",
    "             self.posicion = self.nueva_posicion\n",
    "             return f\"{self.nombre} ha cambiado tu posicion a {self.posicion} y tu salario es ahora de {self.salario} euros anuales.\"\n",
    "        else:\n",
    "            return f\"Tu posicion no ha cambiado, sigues ocupando el puesto de {self.posicion}\"\n",
    "\n",
    "    def tomar_vacaciones(self): # solo recibe un parametro\n",
    "        try:\n",
    "            solicitud_dias = int(input(\"Introduzca el numero de dias de vacaciones que desea solicitar\"))\n",
    "            \n",
    "            if self.dias_solicitados > 0: # establecemos la primera condicion de que se solicite al menos un dia\n",
    "                if self.vacaciones >= self.dias_solicitados: # establecemos la segunda condicion de que el empleado tenga suficientes dias disponibles\n",
    "                    self.vacaciones -= self.dias_solicitados # le restamos los dias solicitados por los dias de vacaciones que le corresponden \n",
    "                    \n",
    "                    return f\"Tus vacaciones han sido actualizadas a {self.vacaciones}.\"\n",
    "                \n",
    "        except ValueError: # declaro que para este tipo de error se ejecutara lo que esta abajo\n",
    "            print(f\"El numero introducido {solicitud_dias} no es valido. Introduce un numero mayor a 0.\")\n",
    "\n",
    "    \n",
    "    def solicitar_aumento_salario(self):\n",
    "        \n",
    "        while True:\n",
    "\n",
    "            try:\n",
    "                porcentaje_aumento = float(input(\"Introduzca el porcentaje de aumento que desea solicitar: \"))\n",
    "                if porcentaje_aumento >= 0:\n",
    "                    nuevo_salario = self.salario*(1+porcentaje_aumento/100)\n",
    "                    self.salario = nuevo_salario\n",
    "\n",
    "                    return f\"{self.nombre} tu aumento de salario ha sido aceptado, y es ahora de {nuevo_salario}\"\n",
    "\n",
    "            except ValueError: # declaro que para este tipo de error se ejecutara lo que esta abajo\n",
    "                print(f\"El numero introducido {porcentaje_aumento} no es valido. Introduce un numero mayor o igual a 0.\")\n",
    "\n",
    "    def realizar_evaluacion(self):\n",
    "        opcion_escogida = False\n",
    "\n",
    "        # Mientras esto sea True\n",
    "\n",
    "        while not opcion_escogida:\n",
    "            evaluacion_usuario = input(\"Selecciona una de las siguientes opciones para calificar tu trabajo: Excelente, bueno, regular o malo\").lower()\n",
    "            opciones_evaluacion = [\"excelente\", \"bueno\", \"regular\", \"malo\"]\n",
    "\n",
    "            if evaluacion_usuario in opciones_evaluacion:\n",
    "                if evaluacion_usuario == \"excelente\":\n",
    "                    print(f\"Hemos recibido tu calificacion: {evaluacion_usuario} , fantastico, vas por buen camino!\")\n",
    "                elif evaluacion_usuario == \"bueno\":\n",
    "                    print(f\"Hemos recibido tu calificacion: {evaluacion_usuario}, vas bien, continua con tu trabajo!\")\n",
    "                elif evaluacion_usuario == \"regular\":\n",
    "                    print(f\"Hemos recibido tu calificacion: {evaluacion_usuario}, todavia hay que mejorar ... \")\n",
    "                elif evaluacion_usuario == \"malo\":\n",
    "                    print (f\"Hemos recibido tu calificacion: {evaluacion_usuario}, no vas muy bien, hay que trabajar mas duro.\")\n",
    "        \n",
    "\n",
    "                #Si ubico un return antes del freno del ciclo  nunca va a parar porque el return frena el codigo. El return siempre de último\n",
    "                opcion_escogida = True\n",
    "\n",
    "            else:\n",
    "                print (\"Selecciona una opcion valida.\")\n",
    "        return \"Evaluación completada\" \n",
    "            "
   ]
  },
  {
   "cell_type": "code",
   "execution_count": 20,
   "metadata": {},
   "outputs": [
    {
     "name": "stdout",
     "output_type": "stream",
     "text": [
      "Maria\n",
      "Garcia Perez\n",
      "22\n",
      "administrativa\n",
      "2022\n",
      "25\n",
      "python\n"
     ]
    }
   ],
   "source": [
    "# creamos nuestra instancia dandole argumentos a nuestros parametros\n",
    "empleado1 = Empleados(\"Maria\", \"Garcia Perez\", 22, \"administrativa\", 2022, 25,\"python\")\n",
    "\n",
    "# llamamos al metodo constructor\n",
    "\n",
    "print(empleado1.nombre)\n",
    "print(empleado1.apellidos)\n",
    "print(empleado1.edad)\n",
    "print(empleado1.posicion)\n",
    "print(empleado1.anio)\n",
    "print(empleado1.vacaciones)\n",
    "print(empleado1.herramientas)"
   ]
  },
  {
   "cell_type": "code",
   "execution_count": 21,
   "metadata": {},
   "outputs": [
    {
     "name": "stdout",
     "output_type": "stream",
     "text": [
      "El empleado Maria, con posicion administrativa, contratado en el año 2022 le quedan 25 dias de vacaciones.\n"
     ]
    }
   ],
   "source": [
    "print(empleado1.descripcion())"
   ]
  },
  {
   "cell_type": "code",
   "execution_count": 22,
   "metadata": {},
   "outputs": [
    {
     "name": "stdout",
     "output_type": "stream",
     "text": [
      "Genial, sigue aprendiendo!\n"
     ]
    }
   ],
   "source": [
    "print(empleado1.cambiando_posicion())"
   ]
  },
  {
   "cell_type": "code",
   "execution_count": 23,
   "metadata": {},
   "outputs": [
    {
     "name": "stdout",
     "output_type": "stream",
     "text": [
      "Maria lleva 2  años en la empresa.\n"
     ]
    }
   ],
   "source": [
    "print(empleado1.calcular_antiguedad())"
   ]
  },
  {
   "cell_type": "code",
   "execution_count": 24,
   "metadata": {},
   "outputs": [
    {
     "name": "stdout",
     "output_type": "stream",
     "text": [
      "Tus vacaciones han sido actualizadas a 35.\n"
     ]
    }
   ],
   "source": [
    "print(empleado1.solicitar_aumento_vacaciones(10))"
   ]
  },
  {
   "cell_type": "code",
   "execution_count": 25,
   "metadata": {},
   "outputs": [
    {
     "name": "stdout",
     "output_type": "stream",
     "text": [
      "El registro de su nueva herramienta python,excel se ha realizado con exito.\n"
     ]
    }
   ],
   "source": [
    "print(empleado1.registrar_herramienta('excel'))"
   ]
  },
  {
   "cell_type": "code",
   "execution_count": 26,
   "metadata": {},
   "outputs": [
    {
     "data": {
      "text/plain": [
       "'python,excel'"
      ]
     },
     "execution_count": 26,
     "metadata": {},
     "output_type": "execute_result"
    }
   ],
   "source": [
    "empleado1.herramientas"
   ]
  },
  {
   "cell_type": "code",
   "execution_count": 27,
   "metadata": {},
   "outputs": [
    {
     "name": "stdout",
     "output_type": "stream",
     "text": [
      "Maria ha cambiado tu posicion a data analyst y tu salario es ahora de 2000 euros anuales.\n"
     ]
    }
   ],
   "source": [
    "print(empleado1.cambiar_posicion(2000,'data analyst'))"
   ]
  },
  {
   "cell_type": "code",
   "execution_count": 28,
   "metadata": {},
   "outputs": [
    {
     "name": "stdout",
     "output_type": "stream",
     "text": [
      "Tus vacaciones han sido actualizadas a 25.\n"
     ]
    }
   ],
   "source": [
    "print(empleado1.tomar_vacaciones())"
   ]
  },
  {
   "cell_type": "code",
   "execution_count": 29,
   "metadata": {},
   "outputs": [
    {
     "name": "stdout",
     "output_type": "stream",
     "text": [
      "Maria tu aumento de salario ha sido aceptado, y es ahora de 3000.0\n"
     ]
    }
   ],
   "source": [
    "print(empleado1.solicitar_aumento_salario())"
   ]
  },
  {
   "cell_type": "code",
   "execution_count": 32,
   "metadata": {},
   "outputs": [
    {
     "name": "stdout",
     "output_type": "stream",
     "text": [
      "Selecciona una opcion valida.\n",
      "Hemos recibido tu calificacion: bueno, vas bien, continua con tu trabajo!\n",
      "Evaluación completada\n"
     ]
    }
   ],
   "source": [
    "print(empleado1.realizar_evaluacion())"
   ]
  },
  {
   "cell_type": "markdown",
   "metadata": {},
   "source": [
    "EJERCICIO 2\n",
    "En este ejercicio, se te pide crear una herencia de la clase creada en el ejercicio anterior. Esta clase hija se llama \"Gerente\" que hereda de la clase creada en el ejercicio anterior. Las instrucciones para crear esta clase son:"
   ]
  },
  {
   "cell_type": "markdown",
   "metadata": {},
   "source": [
    "Crea la clase derivada \"Gerente\" que hereda de la clase \"Empleados\". Esta clase debe tener los siguientes atributos en su constructor además de los heredados de \"Empleados\":\n",
    "\n",
    "departamento (str): El departamento al que está asignado el gerente.\n",
    "\n",
    "empleados_a_cargo (list): Una lista que contiene los nombres de los empleados que están a cargo del gerente."
   ]
  },
  {
   "cell_type": "markdown",
   "metadata": {},
   "source": [
    "Implementa los siguientes métodos en la clase \"Gerente\":\n",
    "\n",
    "asignar_tareas(tarea, empleado): Este método debe recibir el nombre de una tarea y el nombre de un empleado y debe devolver una cadena que indique que el gerente ha asignado la tarea a ese empleado.\n",
    "\n",
    "revisar_desempeno_empleado(empleado): Este método debe recibir el nombre de un empleado y debe devolver una cadena que indique que el gerente está revisando el desempeño de ese empleado.\n",
    "\n",
    "gestionar_empleados(accion, empleado): Este método permite al gerente realizar acciones de contratación o despido de empleados a cargo. Debe recibir una acción (\"contratar\" o \"despedir\") y el nombre de un empleado. Si la acción es \"contratar\", agrega al empleado a la lista de empleados a cargo y devuelve un mensaje indicando que el empleado ha sido contratado por el gerente. Si la acción es \"despedir\" y el empleado está en la lista de empleados a cargo, lo elimina y devuelve un mensaje de despido. Si la acción no es válida, devuelve un mensaje indicando que la acción no es válida."
   ]
  }
 ],
 "metadata": {
  "kernelspec": {
   "display_name": "base",
   "language": "python",
   "name": "python3"
  },
  "language_info": {
   "codemirror_mode": {
    "name": "ipython",
    "version": 3
   },
   "file_extension": ".py",
   "mimetype": "text/x-python",
   "name": "python",
   "nbconvert_exporter": "python",
   "pygments_lexer": "ipython3",
   "version": "3.12.4"
  }
 },
 "nbformat": 4,
 "nbformat_minor": 2
}
